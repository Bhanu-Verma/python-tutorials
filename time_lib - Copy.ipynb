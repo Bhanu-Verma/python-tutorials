{
 "cells": [
  {
   "cell_type": "code",
   "execution_count": 1,
   "metadata": {},
   "outputs": [
    {
     "name": "stdout",
     "output_type": "stream",
     "text": [
      "present time is: 2023-05-23 14:02:23.836425\n",
      "present date is: 2023-05-23\n",
      "year is: 2023\n",
      "month is: 5\n",
      "day is: 23\n",
      "time is  02:02PM\n"
     ]
    }
   ],
   "source": [
    "from datetime import datetime\n",
    "present_time = datetime.now()\n",
    "\n",
    "print(\"present time is:\",present_time)\n",
    "print(\"present date is:\",present_time.strftime(\"%Y-%m-%d\"))\n",
    "print(\"year is:\",present_time.year)\n",
    "print(\"month is:\",present_time.month)\n",
    "print(\"day is:\",present_time.day)\n",
    "print(\"time is \",present_time.strftime(\"%I:%M%p\"))"
   ]
  },
  {
   "cell_type": "code",
   "execution_count": 3,
   "metadata": {},
   "outputs": [
    {
     "name": "stdout",
     "output_type": "stream",
     "text": [
      "      May 2023\n",
      "Mo Tu We Th Fr Sa Su\n",
      " 1  2  3  4  5  6  7\n",
      " 8  9 10 11 12 13 14\n",
      "15 16 17 18 19 20 21\n",
      "22 23 24 25 26 27 28\n",
      "29 30 31\n",
      "\n"
     ]
    }
   ],
   "source": [
    "import calendar\n",
    "print(calendar.month(2023,5))\n"
   ]
  },
  {
   "cell_type": "code",
   "execution_count": 4,
   "metadata": {},
   "outputs": [
    {
     "name": "stdout",
     "output_type": "stream",
     "text": [
      "0.0\n",
      "0.007979869842529297\n"
     ]
    }
   ],
   "source": [
    "#using time module efficiently--\n",
    "#let's compare while and for loops--\n",
    "import time\n",
    "\n",
    "def useWhile():\n",
    "    i=0\n",
    "    num =2\n",
    "    while i<=5000:\n",
    "        num += 1\n",
    "        i+=1\n",
    "\n",
    "def useFor():\n",
    "    num = 1\n",
    "    for i in range(0,5001):\n",
    "        num+=1\n",
    "        continue\n",
    "\n",
    "init = time.time()\n",
    "useFor()\n",
    "print(time.time()-init)\n",
    "init2 = time.time()\n",
    "useWhile()\n",
    "print(time.time()-init2)"
   ]
  },
  {
   "cell_type": "code",
   "execution_count": 5,
   "metadata": {},
   "outputs": [
    {
     "name": "stdout",
     "output_type": "stream",
     "text": [
      "16:00:18\n"
     ]
    }
   ],
   "source": [
    "t = time.localtime()\n",
    "foramatted_time = time.strftime(\"%H:%M:%S\",t)\n",
    "print(foramatted_time)"
   ]
  },
  {
   "cell_type": "code",
   "execution_count": 6,
   "metadata": {},
   "outputs": [
    {
     "name": "stdout",
     "output_type": "stream",
     "text": [
      "16:00:18\n",
      "1\n",
      "16:00:19\n",
      "2\n",
      "16:00:20\n",
      "3\n",
      "16:00:21\n",
      "4\n",
      "16:00:22\n",
      "5\n",
      "16:00:23\n",
      "6\n",
      "16:00:24\n",
      "7\n",
      "16:00:25\n",
      "8\n",
      "16:00:26\n",
      "9\n",
      "16:00:27\n",
      "10\n"
     ]
    }
   ],
   "source": [
    "def clock(x):\n",
    "    y = 0\n",
    "    while(1):\n",
    "        \n",
    "        t = time.localtime()\n",
    "        foramatted_time = time.strftime(\"%H:%M:%S\",t)\n",
    "        print(foramatted_time)\n",
    "        time.sleep(1)\n",
    "        y+=1\n",
    "        print(y)\n",
    "        if y>=x:\n",
    "            break\n",
    "\n",
    "\n",
    "clock(10)\n"
   ]
  },
  {
   "cell_type": "code",
   "execution_count": 22,
   "metadata": {},
   "outputs": [
    {
     "name": "stdout",
     "output_type": "stream",
     "text": [
      "2022-05-21\n"
     ]
    },
    {
     "data": {
      "text/plain": [
       "31536000.0"
      ]
     },
     "execution_count": 22,
     "metadata": {},
     "output_type": "execute_result"
    }
   ],
   "source": [
    "import datetime as dt\n",
    "#1) timedelta--\n",
    "t = dt.timedelta(weeks=52,days=1)\n",
    "d = dt.date(2023,5,21)\n",
    "print(d-t)\n",
    "t.total_seconds()"
   ]
  },
  {
   "cell_type": "code",
   "execution_count": 24,
   "metadata": {},
   "outputs": [
    {
     "data": {
      "text/plain": [
       "datetime.date(2023, 5, 22)"
      ]
     },
     "execution_count": 24,
     "metadata": {},
     "output_type": "execute_result"
    }
   ],
   "source": [
    "#date object--\n",
    "dt.date.today()"
   ]
  },
  {
   "cell_type": "code",
   "execution_count": 16,
   "metadata": {},
   "outputs": [
    {
     "name": "stdout",
     "output_type": "stream",
     "text": [
      "today's date is: 22/05/23\n",
      "current time is: 16:04:26\n"
     ]
    }
   ],
   "source": [
    "#top-10 important questions\n",
    "#print today's date and time in python--\n",
    "t=time.localtime()\n",
    "print(\"today's date is:\",time.strftime(\"%d/%m/%y\",t))\n",
    "print(\"current time is:\",time.strftime(\"%H:%M:%S\",t))"
   ]
  },
  {
   "cell_type": "code",
   "execution_count": 26,
   "metadata": {},
   "outputs": [
    {
     "data": {
      "text/plain": [
       "datetime.date(2002, 12, 26)"
      ]
     },
     "execution_count": 26,
     "metadata": {},
     "output_type": "execute_result"
    }
   ],
   "source": [
    "\n",
    "from datetime import date\n",
    "d = date(2002, 12, 31)\n",
    "d.replace(day=26)\n"
   ]
  },
  {
   "cell_type": "code",
   "execution_count": 27,
   "metadata": {},
   "outputs": [
    {
     "name": "stdout",
     "output_type": "stream",
     "text": [
      "32 days, 0:00:00\n"
     ]
    }
   ],
   "source": [
    "my_bday=dt.date(2023,6,23)\n",
    "time_to_bday = abs(dt.date.today() - my_bday)\n",
    "print(time_to_bday)"
   ]
  },
  {
   "cell_type": "code",
   "execution_count": 29,
   "metadata": {},
   "outputs": [
    {
     "name": "stdout",
     "output_type": "stream",
     "text": [
      "2023-05-24 16:27:00\n"
     ]
    }
   ],
   "source": [
    "#datetime object--\n",
    "string = \"24 05 2023  4:27pm\"\n",
    "dt_obj = dt.datetime.strptime(string,\"%d %m %Y  %I:%M%p\")\n",
    "print(dt_obj)"
   ]
  },
  {
   "cell_type": "code",
   "execution_count": 31,
   "metadata": {},
   "outputs": [
    {
     "name": "stdout",
     "output_type": "stream",
     "text": [
      "2020-02-25 16:20:00\n",
      "16:27:00\n",
      "2023-05-24\n"
     ]
    }
   ],
   "source": [
    "#convert a string into a datetime obje\n",
    "import datetime as dt\n",
    "date_string = \"Feb 25 2020  4:20PM\"\n",
    "\n",
    "dt_object = dt.datetime.strptime(date_string,'%b %d %Y %I:%M%p')\n",
    "print(dt_object)\n",
    "print(dt_obj.time())\n",
    "print(dt_obj.date())"
   ]
  },
  {
   "cell_type": "code",
   "execution_count": 18,
   "metadata": {},
   "outputs": [
    {
     "name": "stdout",
     "output_type": "stream",
     "text": [
      "2020-02-18 00:00:00\n"
     ]
    }
   ],
   "source": [
    "#Subtract a week (7 days)  from a given date in Python\n",
    "given_date = datetime(2020, 2, 25)\n",
    "res_date = given_date - dt.timedelta(days=7)\n",
    "print(res_date)"
   ]
  },
  {
   "cell_type": "code",
   "execution_count": 33,
   "metadata": {},
   "outputs": [
    {
     "name": "stdout",
     "output_type": "stream",
     "text": [
      "Tuesday 25 February 2020\n"
     ]
    }
   ],
   "source": [
    "given_date = datetime(2020, 2, 25)\n",
    "x = dt.datetime.strftime(given_date,\"%A %d %B %Y\")\n",
    "print(x)"
   ]
  },
  {
   "cell_type": "code",
   "execution_count": 40,
   "metadata": {},
   "outputs": [
    {
     "name": "stdout",
     "output_type": "stream",
     "text": [
      "Sunday\n"
     ]
    }
   ],
   "source": [
    "given_date = datetime(2020, 7, 26)\n",
    "x = dt.datetime.strftime(given_date,\"%A %d %B %Y\")\n",
    "print(x.split(\" \")[0])"
   ]
  },
  {
   "cell_type": "code",
   "execution_count": 41,
   "metadata": {},
   "outputs": [
    {
     "name": "stdout",
     "output_type": "stream",
     "text": [
      "2020-03-29 22:00:00\n"
     ]
    }
   ],
   "source": [
    "given_date = datetime(2020, 3, 22, 10, 0, 0)\n",
    "t = dt.timedelta(weeks=1,hours=12)\n",
    "new_date = given_date + t\n",
    "print(new_date)"
   ]
  },
  {
   "cell_type": "code",
   "execution_count": 43,
   "metadata": {},
   "outputs": [
    {
     "name": "stdout",
     "output_type": "stream",
     "text": [
      "1684754283.5277393\n"
     ]
    }
   ],
   "source": [
    "print(time.time())"
   ]
  },
  {
   "cell_type": "code",
   "execution_count": 44,
   "metadata": {},
   "outputs": [
    {
     "name": "stdout",
     "output_type": "stream",
     "text": [
      "2023-06-19 16:53:01.933363\n"
     ]
    }
   ],
   "source": [
    "t = dt.timedelta(weeks=4)\n",
    "print(dt.datetime.today()+t)"
   ]
  },
  {
   "cell_type": "code",
   "execution_count": 47,
   "metadata": {},
   "outputs": [
    {
     "name": "stdout",
     "output_type": "stream",
     "text": [
      "365\n"
     ]
    }
   ],
   "source": [
    "dt1 = dt.date(2023,6,23)\n",
    "dt2 = dt.date(2022,6,23)\n",
    "\n",
    "t = dt1 - dt2\n",
    "print(t.days)\n"
   ]
  },
  {
   "cell_type": "code",
   "execution_count": null,
   "metadata": {},
   "outputs": [],
   "source": []
  }
 ],
 "metadata": {
  "kernelspec": {
   "display_name": "Python 3",
   "language": "python",
   "name": "python3"
  },
  "language_info": {
   "codemirror_mode": {
    "name": "ipython",
    "version": 3
   },
   "file_extension": ".py",
   "mimetype": "text/x-python",
   "name": "python",
   "nbconvert_exporter": "python",
   "pygments_lexer": "ipython3",
   "version": "3.11.3"
  },
  "orig_nbformat": 4
 },
 "nbformat": 4,
 "nbformat_minor": 2
}
