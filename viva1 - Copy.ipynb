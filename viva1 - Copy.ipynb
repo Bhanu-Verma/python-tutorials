{
 "cells": [
  {
   "cell_type": "code",
   "execution_count": 5,
   "metadata": {},
   "outputs": [
    {
     "name": "stdout",
     "output_type": "stream",
     "text": [
      "both are anagrams\n"
     ]
    }
   ],
   "source": [
    "str1 = \"bhanu\"\n",
    "str2 = \"abnuh\"\n",
    "\n",
    "if sorted(str1)==sorted(str2):\n",
    "    print(\"both are anagrams\")\n",
    "else:\n",
    "    print(\"both are not anagrams\")"
   ]
  },
  {
   "cell_type": "code",
   "execution_count": 6,
   "metadata": {},
   "outputs": [
    {
     "name": "stdout",
     "output_type": "stream",
     "text": [
      "enter some words and press enter to stop:\n",
      "['hello', 'everyone', 'my', 'name']\n"
     ]
    }
   ],
   "source": [
    "print(\"enter some words and press enter to stop:\")\n",
    "l = []\n",
    "while True:\n",
    "    s = input()\n",
    "    if s=='':\n",
    "        break\n",
    "    l1 = s.split(\" \")\n",
    "    l.extend(l1)\n",
    "\n",
    "print(l)"
   ]
  },
  {
   "cell_type": "code",
   "execution_count": null,
   "metadata": {},
   "outputs": [],
   "source": []
  }
 ],
 "metadata": {
  "kernelspec": {
   "display_name": "Python 3",
   "language": "python",
   "name": "python3"
  },
  "language_info": {
   "codemirror_mode": {
    "name": "ipython",
    "version": 3
   },
   "file_extension": ".py",
   "mimetype": "text/x-python",
   "name": "python",
   "nbconvert_exporter": "python",
   "pygments_lexer": "ipython3",
   "version": "3.11.3"
  },
  "orig_nbformat": 4
 },
 "nbformat": 4,
 "nbformat_minor": 2
}
