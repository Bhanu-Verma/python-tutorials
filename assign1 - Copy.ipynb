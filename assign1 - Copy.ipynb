{
 "cells": [
  {
   "cell_type": "code",
   "execution_count": 1,
   "metadata": {},
   "outputs": [
    {
     "name": "stdout",
     "output_type": "stream",
     "text": [
      "\n"
     ]
    }
   ],
   "source": [
    "#Que-1\n",
    "s = \"v\"\n",
    "if len(s)<2:\n",
    "    print(\"\")\n",
    "else:\n",
    "    print(s[0]+s[1]+s[-2]+s[-1])"
   ]
  },
  {
   "cell_type": "code",
   "execution_count": 2,
   "metadata": {},
   "outputs": [
    {
     "name": "stdout",
     "output_type": "stream",
     "text": [
      "resta$t\n",
      "resta$t\n"
     ]
    }
   ],
   "source": [
    "#Que-2\n",
    "s = \"restart\"\n",
    "x=s[0]\n",
    "new_list = \"\"\n",
    "new_list+=s[0]\n",
    "i=0\n",
    "while i<len(s):\n",
    "    if i!=0:\n",
    "        if s[i]!=x:\n",
    "            new_list+=s[i]\n",
    "        else:\n",
    "            new_list+='$'\n",
    "    i+=1\n",
    "\n",
    "\n",
    "print(new_list)\n",
    "s=s.replace(s[0],'$')\n",
    "print(x+s[1:])"
   ]
  },
  {
   "cell_type": "code",
   "execution_count": 3,
   "metadata": {},
   "outputs": [
    {
     "name": "stdout",
     "output_type": "stream",
     "text": [
      "The lyrics is good!\n",
      "The lyrics is poor!\n"
     ]
    }
   ],
   "source": [
    "def not_poor(str1):\n",
    "  snot = str1.find('not')\n",
    "  spoor = str1.find('poor')\n",
    "  \n",
    "\n",
    "  if spoor > snot and snot>0 and spoor>0:\n",
    "    str1 = str1.replace(str1[snot:(spoor+4)], 'good')\n",
    "    return str1\n",
    "  else:\n",
    "    return str1\n",
    "print(not_poor('The lyrics is not that poor!'))\n",
    "print(not_poor('The lyrics is poor!'))"
   ]
  },
  {
   "cell_type": "code",
   "execution_count": 4,
   "metadata": {},
   "outputs": [
    {
     "name": "stdout",
     "output_type": "stream",
     "text": [
      "lyrics is good\n"
     ]
    }
   ],
   "source": [
    "#Que-3\n",
    "import re\n",
    "string = \"lyrics is not that poor\"\n",
    "pattern = r\"not\\s+\\w*\\s+poor\"\n",
    "replacement = \"good\"\n",
    "\n",
    "new_string = re.sub(pattern, replacement, string)\n",
    "\n",
    "print(new_string)\n"
   ]
  },
  {
   "cell_type": "code",
   "execution_count": 5,
   "metadata": {},
   "outputs": [
    {
     "name": "stdout",
     "output_type": "stream",
     "text": [
      "[[python]]\n"
     ]
    }
   ],
   "source": [
    "\n",
    "#Que-4\n",
    "def insert_string(a: str, b: str) -> str:\n",
    "    n=len(a)\n",
    "    return a[:int(n/2)]+b+a[int(n/2):]\n",
    "\n",
    "a=\"[[]]\"\n",
    "b=\"python\"\n",
    "print(insert_string(a,b))"
   ]
  },
  {
   "cell_type": "code",
   "execution_count": 6,
   "metadata": {},
   "outputs": [
    {
     "name": "stdout",
     "output_type": "stream",
     "text": [
      "aaahillmnrsuuvy\n"
     ]
    }
   ],
   "source": [
    "#Que-5\n",
    "s = \"vishnulalmaurya\"\n",
    "l = sorted(s)\n",
    "print(''.join(l))"
   ]
  },
  {
   "cell_type": "code",
   "execution_count": 13,
   "metadata": {},
   "outputs": [
    {
     "name": "stdout",
     "output_type": "stream",
     "text": [
      "e 3\n",
      "h 2\n",
      "o 4\n",
      "r 2\n",
      "t 2\n",
      "u 2\n",
      "{'t': 2, 'h': 2, 'e': 3, 'u': 2, 'r': 2, 'o': 4}\n"
     ]
    }
   ],
   "source": [
    "#Que-6\n",
    "s = 'thequickbrownfoxjumpsoverthelazydog'\n",
    "dic = {}\n",
    "for char in s:\n",
    "    if char not in dic:\n",
    "        dic.setdefault(char,0)\n",
    "        dic[char]+=1\n",
    "    else:\n",
    "        dic[char]+=1\n",
    "\n",
    "for k,v in sorted(dic.items()):\n",
    "    if v!=1:\n",
    "        print(k,v,sep=' ',end='\\n')\n",
    "\n",
    "dic2={}\n",
    "set1 = set(s)\n",
    "dic2={x:s.count(x) for x in s if(s.count(x)>=2)}\n",
    "print(dic2)\n",
    "\n"
   ]
  },
  {
   "cell_type": "code",
   "execution_count": null,
   "metadata": {},
   "outputs": [
    {
     "name": "stdout",
     "output_type": "stream",
     "text": [
      "1 \n",
      "\n",
      "1 1 \n",
      "\n",
      "1 2 1 \n",
      "\n",
      "1 3 3 1 \n",
      "\n",
      "1 4 6 4 1 \n",
      "\n",
      "1 5 10 10 5 1 \n",
      "\n"
     ]
    }
   ],
   "source": [
    "#Que-7\n",
    "import math\n",
    "n=6\n",
    "for i in range(n):\n",
    "    for j in range(i+1):\n",
    "        print(math.comb(i,j),end=\" \")\n",
    "    print('\\n')"
   ]
  },
  {
   "cell_type": "code",
   "execution_count": null,
   "metadata": {},
   "outputs": [
    {
     "name": "stdout",
     "output_type": "stream",
     "text": [
      "[1, 2, 2, 3, 4, 4, 5, 6, 7, 9]\n"
     ]
    }
   ],
   "source": [
    "#Que-9\n",
    "arr1=[1,2,3,4,5]\n",
    "arr2=[2,4,6,7,9]\n",
    "ans=[]\n",
    "i=0\n",
    "j=0\n",
    "while i<len(arr1) and j<len(arr2):\n",
    "    if arr1[i]<arr2[j]:\n",
    "        ans.append(arr1[i])\n",
    "        i+=1\n",
    "    else:\n",
    "        ans.append(arr2[j])\n",
    "        j+=1\n",
    "\n",
    "while i<len(arr1):\n",
    "    ans.append(arr1[i])\n",
    "    i+=1\n",
    "while j<len(arr2):\n",
    "    ans.append(arr2[j])\n",
    "    j+=1\n",
    "\n",
    "print(ans)"
   ]
  },
  {
   "cell_type": "code",
   "execution_count": null,
   "metadata": {},
   "outputs": [
    {
     "name": "stdout",
     "output_type": "stream",
     "text": [
      "uppercase= 3\n",
      "lowercase= 12\n"
     ]
    }
   ],
   "source": [
    "#Que-10\n",
    "s='The quick Brow Fox'\n",
    "u=0\n",
    "l=0\n",
    "for char in s:\n",
    "    if char.isupper():\n",
    "        u+=1\n",
    "    elif char.islower():\n",
    "        l+=1\n",
    "\n",
    "print(\"uppercase=\",u)\n",
    "print(\"lowercase=\",l)\n"
   ]
  },
  {
   "cell_type": "code",
   "execution_count": null,
   "metadata": {},
   "outputs": [
    {
     "name": "stdout",
     "output_type": "stream",
     "text": [
      "[1, 1, 2, 3, 4, 5, 6]\n"
     ]
    }
   ],
   "source": [
    "#Que-12\n",
    "l = [1,2,3,4,5,6]\n",
    "l.insert(1,1)\n",
    "print(l)\n"
   ]
  },
  {
   "cell_type": "code",
   "execution_count": null,
   "metadata": {},
   "outputs": [
    {
     "name": "stdout",
     "output_type": "stream",
     "text": [
      "****\n",
      "*  *\n",
      "*  *\n",
      "****\n",
      "* *  \n",
      "*  *  \n",
      "*   *  \n"
     ]
    }
   ],
   "source": [
    "for i in range(4):\n",
    "    for j in range(4):\n",
    "        if i==3 or i==0 or j==0 or j==3:\n",
    "            print('*',end='')\n",
    "        else:\n",
    "            print(\"\",end=\" \")\n",
    "    print('')\n",
    "\n",
    "for i in range(3,6):\n",
    "    print(\"*\",end='')\n",
    "    for j in range(i+1):\n",
    "        if j==i-2:\n",
    "            print('*',end='')\n",
    "        else:\n",
    "            print('',end=\" \")\n",
    "    print(\"\")"
   ]
  },
  {
   "cell_type": "code",
   "execution_count": null,
   "metadata": {},
   "outputs": [
    {
     "name": "stdout",
     "output_type": "stream",
     "text": [
      "1 2 1 2 3 4 2 3 1 \n",
      "\n",
      "3\n"
     ]
    }
   ],
   "source": [
    "#Que-14\n",
    "l=[1,2,1,2,3,4,2,3,1]\n",
    "l.count(1)\n",
    "\n",
    "\n",
    "#correct--\n",
    "from array import array\n",
    "arr = array('H',l)\n",
    "for i in arr:\n",
    "    print(i,end=\" \")\n",
    "print(\"\\n\")\n",
    "print(arr.count(1))"
   ]
  },
  {
   "cell_type": "code",
   "execution_count": null,
   "metadata": {},
   "outputs": [
    {
     "name": "stdout",
     "output_type": "stream",
     "text": [
      "[1, 2, 2, 3, 4, 2, 3, 1]\n",
      "array('H', [1, 1, 2, 3, 4, 2, 3, 1])\n"
     ]
    }
   ],
   "source": [
    "#Que-15\n",
    "l.pop(2)\n",
    "print(l)\n",
    "\n",
    "#correct\n",
    "arr.pop(1)\n",
    "print(arr)"
   ]
  },
  {
   "cell_type": "code",
   "execution_count": null,
   "metadata": {},
   "outputs": [
    {
     "name": "stdout",
     "output_type": "stream",
     "text": [
      "[1, 2, 3, 4]\n",
      "[1, 2, 3, 4]\n"
     ]
    }
   ],
   "source": [
    "#Que-16\n",
    "import numpy as np\n",
    "arr=np.array((1,2,3,4))\n",
    "l = list(arr)\n",
    "print(l)\n",
    "\n",
    "#correct--\n",
    "list2 = list(arr)\n",
    "print(list2)"
   ]
  },
  {
   "cell_type": "code",
   "execution_count": null,
   "metadata": {},
   "outputs": [
    {
     "ename": "AttributeError",
     "evalue": "'set' object has no attribute 'keys'",
     "output_type": "error",
     "traceback": [
      "\u001b[1;31m---------------------------------------------------------------------------\u001b[0m",
      "\u001b[1;31mAttributeError\u001b[0m                            Traceback (most recent call last)",
      "Cell \u001b[1;32mIn[11], line 10\u001b[0m\n\u001b[0;32m      2\u001b[0m l \u001b[39m=\u001b[39m [\n\u001b[0;32m      3\u001b[0m     [\u001b[39m1\u001b[39m,\u001b[39m2\u001b[39m,\u001b[39m3\u001b[39m],\n\u001b[0;32m      4\u001b[0m     [\u001b[39m2\u001b[39m,\u001b[39m3\u001b[39m],\n\u001b[0;32m      5\u001b[0m     [\u001b[39m2\u001b[39m,\u001b[39m3\u001b[39m],\n\u001b[0;32m      6\u001b[0m     [\u001b[39m4\u001b[39m,\u001b[39m5\u001b[39m,\u001b[39m6\u001b[39m]\n\u001b[0;32m      7\u001b[0m ]\n\u001b[0;32m      9\u001b[0m dic \u001b[39m=\u001b[39m {\u001b[39mzip\u001b[39m(\u001b[39menumerate\u001b[39m(l))}\n\u001b[1;32m---> 10\u001b[0m \u001b[39mprint\u001b[39m(dic\u001b[39m.\u001b[39;49mkeys())\n",
      "\u001b[1;31mAttributeError\u001b[0m: 'set' object has no attribute 'keys'"
     ]
    }
   ],
   "source": [
    "#Que-17\n",
    "l = [\n",
    "    [1,2,3],\n",
    "    [2,3],\n",
    "    [2,3],\n",
    "    [4,5,6]\n",
    "]\n",
    "\n",
    "dic = {zip(enumerate(l))}\n",
    "print(dic.keys())"
   ]
  },
  {
   "cell_type": "code",
   "execution_count": null,
   "metadata": {},
   "outputs": [
    {
     "name": "stdout",
     "output_type": "stream",
     "text": [
      "<class 'int'>\n",
      "<class 'int'>\n",
      "[10, 11, 12]\n"
     ]
    }
   ],
   "source": [
    "#Que-18\n",
    "import math\n",
    "l=[\n",
    "     [1,2,3], \n",
    "     [4,5,6], \n",
    "     [10,11,12], \n",
    "     [7,8,9]\n",
    "]\n",
    "#print(type(l[0][0]))\n",
    "ans_list=[];\n",
    "max_sum = sum(l[0])\n",
    "#print(type(max_sum))\n",
    "for i in range(len(l)):\n",
    "    if sum(l[i]) > max_sum:\n",
    "        ans_list = l[i]\n",
    "        max_sum = sum(l[i])\n",
    "\n",
    "print(ans_list)\n"
   ]
  },
  {
   "cell_type": "code",
   "execution_count": null,
   "metadata": {},
   "outputs": [
    {
     "name": "stdout",
     "output_type": "stream",
     "text": [
      "['Que1', 'Que2', 'Que3', 'Que4', 'Que5']\n"
     ]
    }
   ],
   "source": [
    "#Que-19\n",
    "s = \"Que\"\n",
    "l = [i for i in range(1,6)]\n",
    "for i in range(len(l)):\n",
    "    l[i] = s+str(l[i])\n",
    "\n",
    "print(l)"
   ]
  },
  {
   "cell_type": "code",
   "execution_count": null,
   "metadata": {},
   "outputs": [
    {
     "name": "stdout",
     "output_type": "stream",
     "text": [
      "['white', 'orange', 'red']\n",
      "['black', 'yellow']\n"
     ]
    }
   ],
   "source": [
    "#Que-20:\n",
    "l=[\"red\", \"orange\", \"green\", \"blue\", \"white\"]\n",
    "r=[\"black\", \"yellow\", \"green\", \"blue\"]\n",
    "set1=set(l)\n",
    "set2=set(r)\n",
    "print(list(set1.difference(set2)))\n",
    "print(list(set2.difference(set1)))\n"
   ]
  },
  {
   "cell_type": "code",
   "execution_count": 15,
   "metadata": {},
   "outputs": [],
   "source": [
    "#Que-21\n",
    "l = ['a', 'b', 'c', 'd', 'e', 'f', 'g', 'h', 'i', 'j', 'k', 'l', 'm', ]\n"
   ]
  },
  {
   "cell_type": "code",
   "execution_count": null,
   "metadata": {},
   "outputs": [
    {
     "name": "stdout",
     "output_type": "stream",
     "text": [
      "113350\n"
     ]
    }
   ],
   "source": [
    "#Que-22\n",
    "l = [11,33,50]\n",
    "ans=\"\"\n",
    "for i in l:\n",
    "    ans += str(i)\n",
    "print(int(ans))"
   ]
  },
  {
   "cell_type": "code",
   "execution_count": null,
   "metadata": {},
   "outputs": [
    {
     "name": "stdout",
     "output_type": "stream",
     "text": [
      "3\n",
      "6\n",
      "9\n",
      "12\n"
     ]
    }
   ],
   "source": [
    "#Que-23\n",
    "list1 = [1,2,3,4]\n",
    "list2 = [2,4,6,8]\n",
    "for i,j in zip(list1,list2):\n",
    "    print(i+j)"
   ]
  },
  {
   "cell_type": "code",
   "execution_count": null,
   "metadata": {},
   "outputs": [
    {
     "name": "stdout",
     "output_type": "stream",
     "text": [
      "['a1', 'b1', 'c1', 'a2', 'b2', 'c2', 'a3', 'b3', 'c3', 'a4', 'b4', 'c4', 'a5', 'b5', 'c5']\n"
     ]
    }
   ],
   "source": [
    "# Que-24\n",
    "l = ['a','b','c']\n",
    "n = 5\n",
    "ans = []\n",
    "for i in range(1,n+1):\n",
    "    for item in l:\n",
    "        ans.append(item+str(i))\n",
    "print(ans)\n"
   ]
  },
  {
   "cell_type": "code",
   "execution_count": null,
   "metadata": {},
   "outputs": [
    {
     "name": "stdout",
     "output_type": "stream",
     "text": [
      "(0, 'black')\n",
      "(1, 'green')\n",
      "(2, 'red')\n",
      "(3, 'white')\n",
      "(4, 'yellow')\n",
      "black-green-red-white-yellow\n"
     ]
    }
   ],
   "source": [
    "#Que-8\n",
    "s = \"green-red-yellow-black-white\"\n",
    "l = s.split('-')\n",
    "l.sort()\n",
    "for i in enumerate(l):\n",
    "    print(i)\n",
    "ans = \"-\".join(l)\n",
    "print(ans)"
   ]
  },
  {
   "cell_type": "code",
   "execution_count": null,
   "metadata": {},
   "outputs": [
    {
     "name": "stdout",
     "output_type": "stream",
     "text": [
      "10\n",
      "[4, 3, 10, 9, 12, 9]\n"
     ]
    }
   ],
   "source": [
    "#Que-11\n",
    "s = \"0100,0011,1010,1001,1100,1001\"\n",
    "new_list = s.split(',')\n",
    "l = [int(i,2) for i in new_list]\n",
    "for item in l:\n",
    "    if item%5==0:\n",
    "        print(item)\n",
    "print(l)"
   ]
  },
  {
   "cell_type": "code",
   "execution_count": null,
   "metadata": {},
   "outputs": [],
   "source": []
  }
 ],
 "metadata": {
  "kernelspec": {
   "display_name": "Python 3",
   "language": "python",
   "name": "python3"
  },
  "language_info": {
   "codemirror_mode": {
    "name": "ipython",
    "version": 3
   },
   "file_extension": ".py",
   "mimetype": "text/x-python",
   "name": "python",
   "nbconvert_exporter": "python",
   "pygments_lexer": "ipython3",
   "version": "3.11.3"
  },
  "orig_nbformat": 4
 },
 "nbformat": 4,
 "nbformat_minor": 2
}
