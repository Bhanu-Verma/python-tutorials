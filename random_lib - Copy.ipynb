{
 "cells": [
  {
   "cell_type": "code",
   "execution_count": 1,
   "metadata": {},
   "outputs": [],
   "source": [
    "import random as rd\n"
   ]
  },
  {
   "cell_type": "code",
   "execution_count": 3,
   "metadata": {},
   "outputs": [
    {
     "data": {
      "text/plain": [
       "b'\\x19\\xd3Vo\\xef'"
      ]
     },
     "execution_count": 3,
     "metadata": {},
     "output_type": "execute_result"
    }
   ],
   "source": [
    "#FUNCTION FOR BYTES-----\n",
    "rd.randbytes(5)     #generates specifiend number of bytes"
   ]
  },
  {
   "cell_type": "code",
   "execution_count": 11,
   "metadata": {},
   "outputs": [
    {
     "data": {
      "text/plain": [
       "10"
      ]
     },
     "execution_count": 11,
     "metadata": {},
     "output_type": "execute_result"
    }
   ],
   "source": [
    "#FUNCTION FOR INTEGERS=---\n",
    "#randrange(start, stop[, step])\n",
    "# it returns a randomly selected element from the range created by its arguments. The return type of randrange function is an integer.\n",
    "rd.randrange(5,100,2)       #arguments just same as range function\n",
    "rd.randrange(10,12,2)     #second argument is not included\n"
   ]
  },
  {
   "cell_type": "code",
   "execution_count": 13,
   "metadata": {},
   "outputs": [
    {
     "data": {
      "text/plain": [
       "4"
      ]
     },
     "execution_count": 13,
     "metadata": {},
     "output_type": "execute_result"
    }
   ],
   "source": [
    "rd.randint(1,4)     #both are include"
   ]
  },
  {
   "cell_type": "code",
   "execution_count": 14,
   "metadata": {},
   "outputs": [
    {
     "data": {
      "text/plain": [
       "3"
      ]
     },
     "execution_count": 14,
     "metadata": {},
     "output_type": "execute_result"
    }
   ],
   "source": [
    "#FUNCTION FOR SEQUENCES---\n",
    "#choice\n",
    "rd.choice([1,2,3,4,5])"
   ]
  },
  {
   "cell_type": "code",
   "execution_count": 16,
   "metadata": {},
   "outputs": [
    {
     "name": "stdout",
     "output_type": "stream",
     "text": [
      "[4, 5, 3, 2, 1, 6]\n"
     ]
    },
    {
     "data": {
      "text/plain": [
       "['a', 'h', 'b', 'u', 'n']"
      ]
     },
     "execution_count": 16,
     "metadata": {},
     "output_type": "execute_result"
    }
   ],
   "source": [
    "#shuffle---\n",
    "l=[1,2,3,4,5,6]\n",
    "rd.shuffle(l)       #shuffles a iterable\n",
    "print(l)\n",
    "\n",
    "#To shuffle an immutable sequence and return a new shuffled list, use sample(x, k=len(x)) instead\n",
    "s=\"bhanu\"\n",
    "rd.sample(s,len(s))"
   ]
  },
  {
   "cell_type": "code",
   "execution_count": 23,
   "metadata": {},
   "outputs": [
    {
     "name": "stdout",
     "output_type": "stream",
     "text": [
      "[8, 7, 9]\n",
      "5081063534\n",
      "4120936757\n"
     ]
    }
   ],
   "source": [
    "#The random.sample() function in Python is used to randomly select a specified number of elements from a sequence (such as a list or a tuple) without replacement. This means that each element can only be selected once in the sample.\n",
    "\n",
    "\n",
    "my_list = [1, 2, 3, 4, 5, 6, 7, 8, 9, 10]\n",
    "sample = rd.sample(my_list, 3)\n",
    "print(sample)   \n",
    "\n",
    "#if we are asked to generate unique randoms we will use this--\n",
    "l2=rd.sample(range(100),2)\n",
    "sample = rd.sample(range(1000000000,10000000000),k=100) #generates 2 random unique ints\n",
    "for i in l2:\n",
    "    print(sample[i])"
   ]
  },
  {
   "cell_type": "code",
   "execution_count": 27,
   "metadata": {},
   "outputs": [
    {
     "name": "stdout",
     "output_type": "stream",
     "text": [
      "0.6194953754191673\n",
      "41.342088925934725\n"
     ]
    }
   ],
   "source": [
    "#REAL VALUE DISTRIBUTORS\n",
    "print(rd.random())      #generates a random float b/w 0 and 1\n",
    "print(rd.uniform(2.3,123.45))   #generates a random float b/w the given range"
   ]
  },
  {
   "cell_type": "code",
   "execution_count": null,
   "metadata": {},
   "outputs": [],
   "source": []
  },
  {
   "cell_type": "code",
   "execution_count": null,
   "metadata": {},
   "outputs": [],
   "source": []
  }
 ],
 "metadata": {
  "kernelspec": {
   "display_name": "Python 3",
   "language": "python",
   "name": "python3"
  },
  "language_info": {
   "codemirror_mode": {
    "name": "ipython",
    "version": 3
   },
   "file_extension": ".py",
   "mimetype": "text/x-python",
   "name": "python",
   "nbconvert_exporter": "python",
   "pygments_lexer": "ipython3",
   "version": "3.11.3"
  },
  "orig_nbformat": 4
 },
 "nbformat": 4,
 "nbformat_minor": 2
}
