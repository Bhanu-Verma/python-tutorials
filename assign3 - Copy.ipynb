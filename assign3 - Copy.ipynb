{
 "cells": [
  {
   "cell_type": "code",
   "execution_count": 8,
   "metadata": {},
   "outputs": [
    {
     "name": "stdout",
     "output_type": "stream",
     "text": [
      "Into the sunshine\n",
      "Full of the light \n",
      "Leaping and flashing \n",
      "From morn till night\n",
      "\n",
      "Into the moonlight\n",
      "full of the gay\n",
      "\n"
     ]
    }
   ],
   "source": [
    "#Q1-\n",
    "with open('The_fountain.txt','r') as f:\n",
    "    string = f.read()\n",
    "\n",
    "print(string)"
   ]
  },
  {
   "cell_type": "code",
   "execution_count": 9,
   "metadata": {},
   "outputs": [
    {
     "name": "stdout",
     "output_type": "stream",
     "text": [
      "Into the sunshine\n",
      "Full of the light \n",
      "Leaping and flashing \n",
      "From morn till night\n"
     ]
    },
    {
     "data": {
      "text/plain": [
       "True"
      ]
     },
     "execution_count": 9,
     "metadata": {},
     "output_type": "execute_result"
    }
   ],
   "source": [
    "#Q2-\n",
    "n = int(input(\"give the number of lines that you want to read\"))\n",
    "i=0\n",
    "f = open('The_fountain.txt','r')\n",
    "for line in f:\n",
    "    print(line,end='')\n",
    "    i+=1\n",
    "    if(i>=n):\n",
    "        break\n",
    "f.close()\n",
    "f.closed"
   ]
  },
  {
   "cell_type": "code",
   "execution_count": 10,
   "metadata": {},
   "outputs": [
    {
     "name": "stdout",
     "output_type": "stream",
     "text": [
      "Into the sunshine\n",
      "Full of the light \n",
      "Leaping and flashing \n",
      "From morn till night\n",
      "\n",
      "Into the moonlight\n",
      "full of the gay\n",
      "Leaping and flashing\n",
      "Throught the day\n"
     ]
    }
   ],
   "source": [
    "#Q3-\n",
    "to_write = '''Leaping and flashing\n",
    "Throught the day'''\n",
    "with open('The_fountain.txt','a') as f:\n",
    "    f.write(to_write)\n",
    "\n",
    "with open('The_fountain.txt','r') as f:\n",
    "    string = f.read()\n",
    "\n",
    "print(string)\n",
    "\n"
   ]
  },
  {
   "cell_type": "code",
   "execution_count": 15,
   "metadata": {},
   "outputs": [
    {
     "name": "stdout",
     "output_type": "stream",
     "text": [
      "Into the moonlight\n",
      "full of the gay\n",
      "Leaping and flashing\n",
      "Throught the day\n"
     ]
    }
   ],
   "source": [
    "#Q4--\n",
    "n = int(input(\"give the number of lines that you want to read\"))\n",
    "string = []\n",
    "with open('The_fountain.txt','r') as f:\n",
    "    for line in f:\n",
    "        string.append(line)\n",
    "# string.reverse()\n",
    "# new_list = []\n",
    "# for i in range(n):\n",
    "#     new_list.append(string[i])\n",
    "\n",
    "# new_list.reverse()\n",
    "# print(''.join(new_list))\n",
    "print(''.join(string[-n:]))\n"
   ]
  },
  {
   "cell_type": "code",
   "execution_count": 16,
   "metadata": {},
   "outputs": [
    {
     "name": "stdout",
     "output_type": "stream",
     "text": [
      "9\n"
     ]
    }
   ],
   "source": [
    "#Q6-\n",
    "\n",
    "ans = 0\n",
    "with open('The_fountain.txt','r') as f:\n",
    "    for line in f:\n",
    "        ans += 1\n",
    "print(ans)\n"
   ]
  },
  {
   "cell_type": "code",
   "execution_count": 19,
   "metadata": {},
   "outputs": [
    {
     "name": "stdout",
     "output_type": "stream",
     "text": [
      "2\n"
     ]
    }
   ],
   "source": [
    "#Q7-\n",
    "word = \"Into\"\n",
    "ans = 0\n",
    "with open('The_fountain.txt','r') as f:\n",
    "    content = f.read()\n",
    "\n",
    "l = content.split('\\n')\n",
    "for line in l:\n",
    "    x = line.split(' ')\n",
    "    for w in x:\n",
    "        if(word==w):\n",
    "            ans +=1\n",
    "print(ans)"
   ]
  },
  {
   "cell_type": "code",
   "execution_count": 3,
   "metadata": {},
   "outputs": [
    {
     "name": "stdout",
     "output_type": "stream",
     "text": [
      "724\n",
      "724\n"
     ]
    }
   ],
   "source": [
    "#Q8-\n",
    "import os\n",
    "\n",
    "print(os.path.getsize('test.txt'))\n",
    "\n",
    "with open('test.txt','rb') as f:\n",
    "    x=f.read()\n",
    "\n",
    "print(len(x))\n"
   ]
  },
  {
   "cell_type": "code",
   "execution_count": 28,
   "metadata": {},
   "outputs": [],
   "source": [
    "#Q9-\n",
    "color = ['Red', 'Green', 'White', 'Black', 'Pink', 'Yellow']\n",
    "with open(\"test.txt\",\"a\") as f:\n",
    "    for c in color:\n",
    "        f.write(c)\n",
    "        f.write('\\n')\n"
   ]
  },
  {
   "cell_type": "code",
   "execution_count": 30,
   "metadata": {},
   "outputs": [
    {
     "name": "stdout",
     "output_type": "stream",
     "text": [
      "Into the sunshine\n",
      "Content of file test.txt. i.e., What is Python language?\n",
      "Full of the light \n",
      "Python is a widely used high-level, general-purpose, interpreted, dynamic programming \n",
      "Leaping and flashing \n",
      "language. Its design philosophy emphasizes code readability, and its syntax allows programmers \n",
      "From morn till night\n",
      "to express concepts in fewer lines of code than possible in\n",
      "\n",
      "languages such as C++ or Java. (till last line)\n",
      "full of the gay\n",
      "Leaping and flashing\n",
      "Throught the day"
     ]
    }
   ],
   "source": [
    "#Q10-\n",
    "f1 = open('The_fountain.txt','r')\n",
    "f2 = open('test.txt','r')\n",
    "\n",
    "for line1,line2 in zip(f1,f2):\n",
    "    print(line1,end='')\n",
    "    print(line2,end='')\n",
    "\n",
    "for line in f1:\n",
    "    print(line,end='')\n",
    "\n",
    "for line in f2:\n",
    "    print(line,end='')\n",
    "\n",
    "f1.close()\n",
    "f2.close()"
   ]
  },
  {
   "cell_type": "code",
   "execution_count": 1,
   "metadata": {},
   "outputs": [
    {
     "name": "stdout",
     "output_type": "stream",
     "text": [
      "Into the sunshine\n",
      "Full of the light \n",
      "Leaping and flashing \n",
      "From morn till night\n",
      "\n",
      "Into the moonlight\n",
      "full of the gay\n",
      "Leaping and flashing\n",
      "Throught the day\n",
      "From morn till night\n"
     ]
    }
   ],
   "source": [
    "#Q11-\n",
    "import random as rd\n",
    "with open(\"The_fountain.txt\",'r') as f:\n",
    "    string = f.read()\n",
    "\n",
    "print(string)\n",
    "\n",
    "print(rd.choice(string.split('\\n')))"
   ]
  },
  {
   "cell_type": "code",
   "execution_count": 42,
   "metadata": {},
   "outputs": [
    {
     "name": "stdout",
     "output_type": "stream",
     "text": [
      "['hello everyone', 'my name is bhanu verma']\n",
      "HELLO EVERYONEMY NAME IS BHANU VERMA\n"
     ]
    }
   ],
   "source": [
    "#Q12-\n",
    "lines = []\n",
    "while 1:\n",
    "    line = input()\n",
    "    if line=='':\n",
    "        break\n",
    "    else:\n",
    "        lines.append(line)\n",
    "\n",
    "print(lines)\n",
    "ans = \"\"\n",
    "for line in lines:\n",
    "    ans+=line.upper()\n",
    "    \n",
    "\n",
    "print(ans)\n"
   ]
  },
  {
   "cell_type": "code",
   "execution_count": 44,
   "metadata": {},
   "outputs": [
    {
     "name": "stdout",
     "output_type": "stream",
     "text": [
      "['hello', 'bhanu', 'beta', 'kkrh']\n"
     ]
    }
   ],
   "source": [
    "#Q13-\n",
    "words = []\n",
    "while(1):\n",
    "    line_words = input()\n",
    "    if line_words=='':\n",
    "        break\n",
    "    l = list(line_words.split())\n",
    "    for w in l:\n",
    "        words.append(w)\n",
    "     \n",
    "print(words)\n",
    "\n"
   ]
  },
  {
   "cell_type": "code",
   "execution_count": 46,
   "metadata": {},
   "outputs": [],
   "source": [
    "#Q14-\n",
    "import os\n",
    "os.mkdir('faltu')"
   ]
  },
  {
   "cell_type": "code",
   "execution_count": 47,
   "metadata": {},
   "outputs": [],
   "source": [
    "f = open('D:\\Python\\Python Tutorials\\myfile.txt','w')\n",
    "f.close()"
   ]
  },
  {
   "cell_type": "code",
   "execution_count": 48,
   "metadata": {},
   "outputs": [],
   "source": [
    "try:\n",
    "    os.remove('D:\\Python\\Python Tutorials\\myfile.txt')\n",
    "except:\n",
    "    print(\"file doesn't exist\")\n"
   ]
  },
  {
   "cell_type": "code",
   "execution_count": null,
   "metadata": {},
   "outputs": [],
   "source": []
  }
 ],
 "metadata": {
  "kernelspec": {
   "display_name": "Python 3",
   "language": "python",
   "name": "python3"
  },
  "language_info": {
   "codemirror_mode": {
    "name": "ipython",
    "version": 3
   },
   "file_extension": ".py",
   "mimetype": "text/x-python",
   "name": "python",
   "nbconvert_exporter": "python",
   "pygments_lexer": "ipython3",
   "version": "3.11.3"
  },
  "orig_nbformat": 4
 },
 "nbformat": 4,
 "nbformat_minor": 2
}
