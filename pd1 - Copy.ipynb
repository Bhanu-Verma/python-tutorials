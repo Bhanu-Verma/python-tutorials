{
 "cells": [
  {
   "cell_type": "code",
   "execution_count": 1,
   "metadata": {},
   "outputs": [],
   "source": [
    "import numpy as np\n",
    "import pandas as pd"
   ]
  },
  {
   "cell_type": "code",
   "execution_count": 5,
   "metadata": {},
   "outputs": [
    {
     "data": {
      "text/plain": [
       "['cat', 'dog', 'birds', 'fish']"
      ]
     },
     "execution_count": 5,
     "metadata": {},
     "output_type": "execute_result"
    }
   ],
   "source": [
    "my_pets = ['cat','dog','birds','fish']\n",
    "my_pets"
   ]
  },
  {
   "cell_type": "code",
   "execution_count": 6,
   "metadata": {},
   "outputs": [
    {
     "data": {
      "text/plain": [
       "0      cat\n",
       "1      dog\n",
       "2    birds\n",
       "3     fish\n",
       "dtype: object"
      ]
     },
     "execution_count": 6,
     "metadata": {},
     "output_type": "execute_result"
    }
   ],
   "source": [
    "pd.Series(my_pets)"
   ]
  },
  {
   "cell_type": "code",
   "execution_count": 8,
   "metadata": {},
   "outputs": [
    {
     "data": {
      "text/plain": [
       "1      cat\n",
       "2      dog\n",
       "3    birds\n",
       "4     fish\n",
       "dtype: object"
      ]
     },
     "execution_count": 8,
     "metadata": {},
     "output_type": "execute_result"
    }
   ],
   "source": [
    "#to change the indexing--\n",
    "idx = [1,2,3,4]\n",
    "pd.Series(my_pets,index=idx)\n",
    "#length of index array and the original array should be same\n",
    "#otherwise it will give an error"
   ]
  },
  {
   "cell_type": "code",
   "execution_count": 12,
   "metadata": {},
   "outputs": [
    {
     "data": {
      "text/plain": [
       "day1            monday math\n",
       "day2        tuesday physics\n",
       "day3    wednesday chemistry\n",
       "dtype: object"
      ]
     },
     "execution_count": 12,
     "metadata": {},
     "output_type": "execute_result"
    }
   ],
   "source": [
    "days = pd.Series(['monday','tuesday','wednesday'],index='day1 day2 day3'.split())\n",
    "courses = pd.Series(['math','physics','chemistry'],index='day1 day2 day3'.split())\n",
    "days +\" \"+ courses  #addition based on their indexing"
   ]
  },
  {
   "cell_type": "code",
   "execution_count": 13,
   "metadata": {},
   "outputs": [
    {
     "data": {
      "text/plain": [
       "day1            monday math\n",
       "day2                    NaN\n",
       "day3    wednesday chemistry\n",
       "day5                    NaN\n",
       "dtype: object"
      ]
     },
     "execution_count": 13,
     "metadata": {},
     "output_type": "execute_result"
    }
   ],
   "source": [
    "#if we don't have the same indexing- \n",
    "\n",
    "days = pd.Series(['monday','tuesday','wednesday'],index='day1 day2 day3'.split())\n",
    "courses = pd.Series(['math','physics','chemistry'],index='day1 day5 day3'.split())\n",
    "days +\" \"+ courses  #addition based on their indexing"
   ]
  },
  {
   "cell_type": "code",
   "execution_count": 16,
   "metadata": {},
   "outputs": [
    {
     "data": {
      "text/plain": [
       "'chemistry'"
      ]
     },
     "execution_count": 16,
     "metadata": {},
     "output_type": "execute_result"
    }
   ],
   "source": [
    "#we can use indxing--\n",
    "courses['day3']"
   ]
  },
  {
   "cell_type": "code",
   "execution_count": 21,
   "metadata": {},
   "outputs": [
    {
     "name": "stdout",
     "output_type": "stream",
     "text": [
      "Virat\n",
      "MS Dhoni\n"
     ]
    }
   ],
   "source": [
    "#loc and iloc--\n",
    "players = {\n",
    "    'batter':'Virat',\n",
    "    'bowler':'Bumrah',\n",
    "    'keeper':'MS Dhoni'\n",
    "}\n",
    "\n",
    "cricket = pd.Series(players)\n",
    "print(cricket.loc['batter'])\n",
    "print(cricket.iloc[2])\n"
   ]
  },
  {
   "cell_type": "code",
   "execution_count": null,
   "metadata": {},
   "outputs": [],
   "source": []
  }
 ],
 "metadata": {
  "kernelspec": {
   "display_name": "Python 3",
   "language": "python",
   "name": "python3"
  },
  "language_info": {
   "codemirror_mode": {
    "name": "ipython",
    "version": 3
   },
   "file_extension": ".py",
   "mimetype": "text/x-python",
   "name": "python",
   "nbconvert_exporter": "python",
   "pygments_lexer": "ipython3",
   "version": "3.11.3"
  },
  "orig_nbformat": 4
 },
 "nbformat": 4,
 "nbformat_minor": 2
}
