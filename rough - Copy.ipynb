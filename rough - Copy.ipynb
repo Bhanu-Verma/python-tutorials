{
 "cells": [
  {
   "cell_type": "code",
   "execution_count": 10,
   "metadata": {},
   "outputs": [
    {
     "name": "stdout",
     "output_type": "stream",
     "text": [
      "ok\n"
     ]
    }
   ],
   "source": [
    "import re\n",
    "s = \"my name is not that much very poor\"\n",
    "a = \"not\"\n",
    "b = \"poor\"\n",
    "\n",
    "pattern = fr\"\\b{a}\\b.*?\\b{b}\"\n",
    "match = re.search(pattern,s)\n",
    "if match:\n",
    "    print(\"ok\")\n",
    "else:\n",
    "    print(\"bhai sahab\")"
   ]
  },
  {
   "cell_type": "code",
   "execution_count": 6,
   "metadata": {},
   "outputs": [
    {
     "name": "stdout",
     "output_type": "stream",
     "text": [
      "True\n"
     ]
    }
   ],
   "source": [
    "import re\n",
    "\n",
    "def is_word_followed_by_word(text, word1, word2):\n",
    "    pattern = fr\"\\b{word1}\\b.*?\\b{word2}\\b\"\n",
    "    match = re.search(pattern, text)\n",
    "    return bool(match)\n",
    "\n",
    "# Example usage\n",
    "sentence = \"This is a sample sentence. Python is a powerful language.\"\n",
    "word1 = \"is\"\n",
    "word2 = \"language\"\n",
    "\n",
    "result = is_word_followed_by_word(sentence, word1, word2)\n",
    "print(result)  # Output: True"
   ]
  },
  {
   "cell_type": "code",
   "execution_count": null,
   "metadata": {},
   "outputs": [],
   "source": []
  }
 ],
 "metadata": {
  "kernelspec": {
   "display_name": "Python 3",
   "language": "python",
   "name": "python3"
  },
  "language_info": {
   "codemirror_mode": {
    "name": "ipython",
    "version": 3
   },
   "file_extension": ".py",
   "mimetype": "text/x-python",
   "name": "python",
   "nbconvert_exporter": "python",
   "pygments_lexer": "ipython3",
   "version": "3.11.3"
  },
  "orig_nbformat": 4
 },
 "nbformat": 4,
 "nbformat_minor": 2
}
