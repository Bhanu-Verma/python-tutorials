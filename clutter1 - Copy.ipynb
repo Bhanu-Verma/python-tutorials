{
 "cells": [
  {
   "cell_type": "code",
   "execution_count": 12,
   "metadata": {},
   "outputs": [
    {
     "name": "stdout",
     "output_type": "stream",
     "text": [
      "['1.jpg', '2.jpg', '3.jpg', 'FMiVbWC1YMO5FjmNmEd9omtsW2xPU06Zpcs69j0Kd5M=_plaintext_638198164649984818.jpg', 'IMG-20230416-WA0014.jpg', 'iqPkS9fDJNRNa0fvrWlFQJS701MefRwARt8QN2Hyi1o=_plaintext_638172430912320649.jpg', 'itw1assign3.pdf', 'itw1assign4.pdf', 'MEgcKyim8s8VWMIcB_vBQ_I8iRvJktcCiZW6tRBgO3I=_plaintext_638198164627979167.jpg', 'N4dVpNRDZWRxixwMM4hB-jxV3RqMg2tLCc6mhWabR6o=_plaintext_638198164662997285.jpg', 'nwiD7itfxnejxfX0nW-1ZuY9Bv4L2HNjPFSR9o8crKU=_plaintext_638198164639182911.jpg', 'P4wrlDIfVZao0_8y435IhjwH0Oxfs5EM69BgtRVQdzI=_plaintext_638172430865455133.jpg', 'PaxaIlb34YKflsL8Q12-5UvVPBaQ3bCcxZViVlk262o=_plaintext_638172430915433678.jpg', 'WhatsApp Image 2023-05-16 at 12.10.25.jpg']\n"
     ]
    }
   ],
   "source": [
    "import os\n",
    "import glob\n",
    "import sys\n",
    "l = os.listdir(\"C:\\\\Users\\\\Dev IIT\\\\Documents\\\\jaanu\")\n",
    "print(l)"
   ]
  },
  {
   "cell_type": "code",
   "execution_count": 20,
   "metadata": {},
   "outputs": [
    {
     "name": "stdout",
     "output_type": "stream",
     "text": [
      "C:\\Users\\Dev IIT\\Documents\\jaanu\n"
     ]
    }
   ],
   "source": [
    "os.chdir(\"C:\\\\Users\\\\Dev IIT\\\\Documents\\\\jaanu\")\n",
    "print(os.getcwd())\n",
    "\n",
    "l2 = os.listdir()\n",
    "j=100\n",
    "for i in l2:\n",
    "    if i.endswith('.jpg'):\n",
    "        os.rename(i,f\"{j}.jpg\")\n",
    "    j+=1"
   ]
  },
  {
   "cell_type": "code",
   "execution_count": null,
   "metadata": {},
   "outputs": [],
   "source": []
  }
 ],
 "metadata": {
  "kernelspec": {
   "display_name": "Python 3",
   "language": "python",
   "name": "python3"
  },
  "language_info": {
   "codemirror_mode": {
    "name": "ipython",
    "version": 3
   },
   "file_extension": ".py",
   "mimetype": "text/x-python",
   "name": "python",
   "nbconvert_exporter": "python",
   "pygments_lexer": "ipython3",
   "version": "3.11.3"
  },
  "orig_nbformat": 4
 },
 "nbformat": 4,
 "nbformat_minor": 2
}
