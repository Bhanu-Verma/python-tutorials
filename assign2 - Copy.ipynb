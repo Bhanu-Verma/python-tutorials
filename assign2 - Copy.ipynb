{
 "cells": [
  {
   "cell_type": "code",
   "execution_count": 1,
   "metadata": {},
   "outputs": [
    {
     "name": "stdout",
     "output_type": "stream",
     "text": [
      "3.103210678210678\n"
     ]
    }
   ],
   "source": [
    "#Que-11\n",
    "n=12\n",
    "ans=0.0\n",
    "for i in range(1,n+1):\n",
    "    ans += 1/i\n",
    "print(ans)"
   ]
  },
  {
   "cell_type": "code",
   "execution_count": 9,
   "metadata": {},
   "outputs": [
    {
     "name": "stdout",
     "output_type": "stream",
     "text": [
      "mid=3\n",
      "mid=5\n",
      "mid=6\n",
      "element was found at the index 6\n"
     ]
    }
   ],
   "source": [
    "#Que-13\n",
    "def binary_search(arr: list, key: int) -> int:\n",
    "    '''this function returns the indexof element in the list'''\n",
    "    s =0\n",
    "    e = len(arr)-1\n",
    "    mid = int((s+e)/2)\n",
    "    while s<e:\n",
    "        print(f\"mid={mid}\")\n",
    "        if arr[mid]==key:\n",
    "            return mid\n",
    "        elif arr[mid]<key:\n",
    "            s=mid+1\n",
    "        else:\n",
    "            e=mid-1\n",
    "        mid=int((s+e)/2)\n",
    "    return -1\n",
    "\n",
    "arr=[1,3,5,6,7,8,9,10]\n",
    "x = binary_search(arr,9)\n",
    "if(x!=-1):\n",
    "    print(f\"element was found at the index {x}\")\n",
    "else:\n",
    "    print(\"element is not present in the array\")"
   ]
  },
  {
   "cell_type": "code",
   "execution_count": 10,
   "metadata": {},
   "outputs": [
    {
     "name": "stdout",
     "output_type": "stream",
     "text": [
      "[-12, -1, -1, 2, 4, 32, 98]\n"
     ]
    }
   ],
   "source": [
    "#Que-14\n",
    "#bubble sort\n",
    "arr=[-1,2,4,98,-1,32,-12]\n",
    "\n",
    "n = len(arr)\n",
    "\n",
    "count = 1\n",
    "while count<=n-1:\n",
    "    for j in range(n-count):\n",
    "        if arr[j]>arr[j+1]:\n",
    "            arr[j],arr[j+1]=arr[j+1],arr[j]\n",
    "    count+=1\n",
    "\n",
    "print(arr)"
   ]
  },
  {
   "cell_type": "code",
   "execution_count": 15,
   "metadata": {},
   "outputs": [
    {
     "name": "stdout",
     "output_type": "stream",
     "text": [
      "[14, 21, 27, 41, 43, 45, 46, 57, 70]\n"
     ]
    }
   ],
   "source": [
    "#Que-15\n",
    "#selection sort\n",
    "arr =  [14, 46, 43, 27, 57, 41, 45, 21, 70]\n",
    "\n",
    "n = len(arr)\n",
    "min_idx=0\n",
    "for i in range(n):\n",
    "    min_idx=i\n",
    "    for j in range(i,n):\n",
    "        if arr[j]<arr[min_idx]:\n",
    "            min_idx = j\n",
    "    arr[i],arr[min_idx] = arr[min_idx],arr[i]\n",
    "\n",
    "print(arr)\n"
   ]
  },
  {
   "cell_type": "code",
   "execution_count": 1,
   "metadata": {},
   "outputs": [
    {
     "name": "stdout",
     "output_type": "stream",
     "text": [
      "[14]\n",
      "[46]\n",
      "[14, 46]\n",
      "[43]\n",
      "[27]\n",
      "[57]\n",
      "[14, 43, 46]\n",
      "[27, 57]\n",
      "[41]\n",
      "[45]\n",
      "[21]\n",
      "[70]\n",
      "[41, 45]\n",
      "[21, 70]\n",
      "[14, 27, 43, 46, 57]\n",
      "[21, 41, 45, 70]\n",
      "[14, 21, 27, 41, 43, 45, 46, 57, 70]\n"
     ]
    }
   ],
   "source": [
    "#Que-16\n",
    "#merge sort\n",
    "\n",
    "def merge(s,e,mid,arr):\n",
    "    '''It is a function to merge two sorted arrays.'''\n",
    "    arr1=arr[s:mid+1]\n",
    "    arr2=arr[mid+1:e+1]\n",
    "    print(arr1)\n",
    "    print(arr2)\n",
    "    k=s\n",
    "    i=0\n",
    "    j=0\n",
    "    while i<len(arr1) and j<len(arr2):\n",
    "        if arr1[i]<arr2[j]:\n",
    "            arr[k]=arr1[i]\n",
    "            i+=1\n",
    "            k+=1\n",
    "        else:\n",
    "            arr[k]=arr2[j]\n",
    "            j+=1\n",
    "            k+=1\n",
    "\n",
    "    while i<len(arr1):\n",
    "        arr[k]=arr1[i]\n",
    "        i+=1\n",
    "        k+=1\n",
    "\n",
    "    while j<len(arr2):\n",
    "        arr[k]=arr2[j]\n",
    "        j+=1\n",
    "        k+=1\n",
    "    return \n",
    "\n",
    "def merge_sort(s,e,arr):\n",
    "    '''It is a recursive function to implement the merge sort.'''\n",
    "    if(s>=e):\n",
    "        return\n",
    "    mid = int((s+e)/2)\n",
    "    merge_sort(s,mid,arr)\n",
    "    merge_sort(mid+1,e,arr)\n",
    "    arr = merge(s,e,mid,arr)\n",
    "    return \n",
    "\n",
    "\n",
    "arr =  [14, 46, 43, 27, 57, 41, 45, 21, 70]\n",
    "n = len(arr)\n",
    "\n",
    "merge_sort(0,n-1,arr)\n",
    "print(arr)"
   ]
  },
  {
   "cell_type": "code",
   "execution_count": 30,
   "metadata": {},
   "outputs": [
    {
     "name": "stdout",
     "output_type": "stream",
     "text": [
      "Verma Bhanu not is name My\n"
     ]
    }
   ],
   "source": [
    "#Que-17\n",
    "inpt = \"My name is not Bhanu Verma\"\n",
    "l = inpt.split(' ')\n",
    "#print(l)\n",
    "l.reverse()\n",
    "outpt = ' '.join(l)\n",
    "print(outpt)\n"
   ]
  },
  {
   "cell_type": "code",
   "execution_count": 33,
   "metadata": {},
   "outputs": [
    {
     "name": "stdout",
     "output_type": "stream",
     "text": [
      "aidnI ym evol I\n"
     ]
    }
   ],
   "source": [
    "#Que-18\n",
    "def rev(s: str) -> str:\n",
    "    return s[-1::-1]\n",
    "\n",
    "s= \"I love my India\"\n",
    "print(rev(s))"
   ]
  },
  {
   "cell_type": "code",
   "execution_count": 1,
   "metadata": {},
   "outputs": [
    {
     "name": "stdout",
     "output_type": "stream",
     "text": [
      "('_abc', '_ast', '_bisect', '_blake2', '_codecs', '_codecs_cn', '_codecs_hk', '_codecs_iso2022', '_codecs_jp', '_codecs_kr', '_codecs_tw', '_collections', '_contextvars', '_csv', '_datetime', '_functools', '_heapq', '_imp', '_io', '_json', '_locale', '_lsprof', '_md5', '_multibytecodec', '_opcode', '_operator', '_pickle', '_random', '_sha1', '_sha256', '_sha3', '_sha512', '_signal', '_sre', '_stat', '_statistics', '_string', '_struct', '_symtable', '_thread', '_tokenize', '_tracemalloc', '_typing', '_warnings', '_weakref', '_winapi', '_xxsubinterpreters', 'array', 'atexit', 'audioop', 'binascii', 'builtins', 'cmath', 'errno', 'faulthandler', 'gc', 'itertools', 'marshal', 'math', 'mmap', 'msvcrt', 'nt', 'sys', 'time', 'winreg', 'xxsubtype', 'zlib')\n"
     ]
    }
   ],
   "source": [
    "import sys\n",
    "print(sys.builtin_module_names)"
   ]
  },
  {
   "cell_type": "code",
   "execution_count": 1,
   "metadata": {},
   "outputs": [
    {
     "name": "stdout",
     "output_type": "stream",
     "text": [
      "iFcgb79ZN/\n"
     ]
    }
   ],
   "source": [
    "#Que-22 \n",
    "#password generator\n",
    "import random as rd\n",
    "chars = ['abcdefg()hijkl\\+=mnopqrstuvwxyz','ABCDEF{}GHIJKL/MNOPQRST~UVWXYZ','!@#$%^&*12-*34567890?']\n",
    "passwd = \"\"\n",
    "for i in range(10):\n",
    "    x=rd.randint(0,2)\n",
    "    passwd += rd.choice(chars[x])\n",
    "\n",
    "print(passwd)\n"
   ]
  },
  {
   "cell_type": "code",
   "execution_count": 1,
   "metadata": {},
   "outputs": [
    {
     "ename": "NameError",
     "evalue": "name 'rd' is not defined",
     "output_type": "error",
     "traceback": [
      "\u001b[1;31m---------------------------------------------------------------------------\u001b[0m",
      "\u001b[1;31mNameError\u001b[0m                                 Traceback (most recent call last)",
      "Cell \u001b[1;32mIn[1], line 5\u001b[0m\n\u001b[0;32m      3\u001b[0m l\u001b[39m=\u001b[39m[]\n\u001b[0;32m      4\u001b[0m \u001b[39mwhile\u001b[39;00m \u001b[39mTrue\u001b[39;00m:\n\u001b[1;32m----> 5\u001b[0m     x\u001b[39m=\u001b[39mrd\u001b[39m.\u001b[39mrandint(\u001b[39m1000000000\u001b[39m,\u001b[39m9999999999\u001b[39m)\n\u001b[0;32m      6\u001b[0m     \u001b[39mif\u001b[39;00m x \u001b[39mnot\u001b[39;00m \u001b[39min\u001b[39;00m l:\n\u001b[0;32m      7\u001b[0m         l\u001b[39m.\u001b[39mappend(x)\n",
      "\u001b[1;31mNameError\u001b[0m: name 'rd' is not defined"
     ]
    }
   ],
   "source": [
    "#Que-24\n",
    "#lottery game\n",
    "l=[]\n",
    "while True:\n",
    "    x=rd.randint(1000000000,9999999999)\n",
    "    if x not in l:\n",
    "        l.append(x)\n",
    "    if(len(l)==100):\n",
    "        break\n",
    "\n",
    "x=rd.choice(l)\n",
    "print(f\"first lucky number is {x}\")\n",
    "l.remove(x)\n",
    "y=rd.choice(l)\n",
    "print(f\"second lucky nuber is {y}\")\n",
    "\n",
    "print(rd.sample(l,2))"
   ]
  },
  {
   "cell_type": "code",
   "execution_count": 49,
   "metadata": {},
   "outputs": [
    {
     "data": {
      "text/plain": [
       "['_STRUCT_TM_ITEMS',\n",
       " '__doc__',\n",
       " '__loader__',\n",
       " '__name__',\n",
       " '__package__',\n",
       " '__spec__',\n",
       " 'altzone',\n",
       " 'asctime',\n",
       " 'ctime',\n",
       " 'daylight',\n",
       " 'get_clock_info',\n",
       " 'gmtime',\n",
       " 'localtime',\n",
       " 'mktime',\n",
       " 'monotonic',\n",
       " 'monotonic_ns',\n",
       " 'perf_counter',\n",
       " 'perf_counter_ns',\n",
       " 'process_time',\n",
       " 'process_time_ns',\n",
       " 'sleep',\n",
       " 'strftime',\n",
       " 'strptime',\n",
       " 'struct_time',\n",
       " 'thread_time',\n",
       " 'thread_time_ns',\n",
       " 'time',\n",
       " 'time_ns',\n",
       " 'timezone',\n",
       " 'tzname']"
      ]
     },
     "execution_count": 49,
     "metadata": {},
     "output_type": "execute_result"
    }
   ],
   "source": [
    "import time\n",
    "dir(time)"
   ]
  },
  {
   "cell_type": "code",
   "execution_count": 21,
   "metadata": {},
   "outputs": [
    {
     "name": "stdout",
     "output_type": "stream",
     "text": [
      "21\n"
     ]
    }
   ],
   "source": [
    "#Que-13\n",
    "\n",
    "def get_sum(l,idx):\n",
    "    #x = list(l[idx])\n",
    "    if(idx == len(l)):\n",
    "        return 0\n",
    "    if isinstance(l[idx],int):\n",
    "        \n",
    "        return(l[idx]+get_sum(l,idx+1))\n",
    "    else:\n",
    "        return get_sum(l[idx],0)+get_sum(l,idx+1)\n",
    "\n",
    "l = [1,2,[3,4],[5,6]]\n",
    "print(get_sum(l,0))\n"
   ]
  },
  {
   "cell_type": "code",
   "execution_count": 57,
   "metadata": {},
   "outputs": [
    {
     "name": "stdout",
     "output_type": "stream",
     "text": [
      "{'green'}\n",
      "{'green', 'blue', 'yellow'}\n",
      "{'blue'}\n"
     ]
    }
   ],
   "source": [
    "#Que-9\n",
    "set1=set([\"green\", \"blue\"])\n",
    "set2=set([\"blue\", \"yellow\"])\n",
    "print(set1.difference(set2))\n",
    "print(set1.union(set2))\n",
    "print(set1.intersection(set2))"
   ]
  },
  {
   "cell_type": "code",
   "execution_count": 19,
   "metadata": {},
   "outputs": [
    {
     "name": "stdout",
     "output_type": "stream",
     "text": [
      "minimum value in the set is: 2\n",
      "maximum value in the set is: 20\n",
      "minimum value in the set is: 2\n",
      "maximum value in the set is: 20\n",
      "minimum value in the set is: 2\n",
      "maximum value in the set is: 20\n"
     ]
    }
   ],
   "source": [
    "#que-8\n",
    "set1=set([5, 10, 3, 15, 2, 20])\n",
    "l = list(set1)\n",
    "l.sort()\n",
    "print(f\"minimum value in the set is: {l[0]}\")\n",
    "print(f\"maximum value in the set is: {l[-1]}\")\n",
    "\n",
    "#second method\n",
    "for i,x in enumerate(sorted(set1)):\n",
    "    if i==0:\n",
    "        print(f\"minimum value in the set is: {x}\")\n",
    "    elif i==len(set1)-1:\n",
    "        print(f\"maximum value in the set is: {x}\")\n",
    "\n",
    "#third method-\n",
    "print(f\"minimum value in the set is: {min(set1)}\")\n",
    "print(f\"maximum value in the set is: {max(set1)}\")\n"
   ]
  },
  {
   "cell_type": "code",
   "execution_count": 64,
   "metadata": {},
   "outputs": [
    {
     "name": "stdout",
     "output_type": "stream",
     "text": [
      "4\n"
     ]
    }
   ],
   "source": [
    "#Que - 7\n",
    "ans = 0\n",
    "l = [1,2,3,4,(1,3),(2,3,4)]\n",
    "for item in l:\n",
    "    if isinstance(item,tuple):\n",
    "        break\n",
    "    else:\n",
    "        \n",
    "        ans+=1\n",
    "\n",
    "print(ans)"
   ]
  },
  {
   "cell_type": "code",
   "execution_count": 17,
   "metadata": {},
   "outputs": [
    {
     "name": "stdout",
     "output_type": "stream",
     "text": [
      "{'a': 3, 'b': 1, 'h': 2, 'n': 4, 'u': 5}\n",
      "{'b': 1, 'h': 2, 'a': 3, 'n': 4, 'u': 5}\n"
     ]
    }
   ],
   "source": [
    "#Que-6\n",
    "import pprint\n",
    "l=(('b',1),('h',2),('a',3),('n',4),('u',5))\n",
    "dic = {}\n",
    "for tpl in l:\n",
    "    dic[tpl[0]]=tpl[1]\n",
    "\n",
    "pprint.pprint(dic)\n",
    "\n",
    "#or\n",
    "\n",
    "new_dict={k:v for k,v in l}\n",
    "print(new_dict)"
   ]
  },
  {
   "cell_type": "code",
   "execution_count": 14,
   "metadata": {},
   "outputs": [
    {
     "name": "stdout",
     "output_type": "stream",
     "text": [
      "[('',), ('a', 'b'), ('a', 'b', 'c'), 'd']\n",
      "[('',), ('a', 'b'), ('a', 'b', 'c'), 'd']\n"
     ]
    }
   ],
   "source": [
    "#que -5 \n",
    "l = [(), (), ('',), ('a', 'b'), ('a', 'b', 'c'), ('d')]\n",
    "to_rmv=[]\n",
    "for item in l:\n",
    "   # print(item)\n",
    "    if item:\n",
    "        pass\n",
    "    else:\n",
    "        to_rmv.append(item)\n",
    "\n",
    "for i in to_rmv:\n",
    "    l.remove(i)\n",
    "print(l)\n",
    "\n",
    "#       Or\n",
    "new_list = [i for i in l if i]\n",
    "print(new_list)"
   ]
  },
  {
   "cell_type": "code",
   "execution_count": 16,
   "metadata": {},
   "outputs": [
    {
     "name": "stdout",
     "output_type": "stream",
     "text": [
      "{('key1', 1)}\n",
      "key1:1 is present in both dictionaries\n"
     ]
    }
   ],
   "source": [
    "#que-1\n",
    "dict1= {'key1': 1, 'key2': 3, 'key3': 2}\n",
    "dict2= {'key1': 1, 'key2': 2}\n",
    "set1 = set()\n",
    "set2 = set()\n",
    "\n",
    "for x,y in dict1.items():\n",
    "    set1.add((x,y))\n",
    "for x,y in dict2.items():\n",
    "    set2.add((x,y))\n",
    "\n",
    "set3 = set1.intersection(set2)\n",
    "print(set3)\n",
    "for x,y in set3:\n",
    "    print(f\"{x}:{y} is present in both dictionaries\")"
   ]
  },
  {
   "cell_type": "code",
   "execution_count": 4,
   "metadata": {},
   "outputs": [
    {
     "name": "stdout",
     "output_type": "stream",
     "text": [
      "<class 'dict'>\n"
     ]
    },
    {
     "data": {
      "text/plain": [
       "{'class-V': {1}, 'class-VI': {2, 4}, 'class-VII': {2}, 'class-VIII': {3}}"
      ]
     },
     "execution_count": 4,
     "metadata": {},
     "output_type": "execute_result"
    }
   ],
   "source": [
    "#que-2\n",
    "l1=['class-V','class-VI','class-VII','class-VIII','class-VI']\n",
    "l2=[1,2,2,3,4]\n",
    "\n",
    "d = {}\n",
    "\n",
    "for x,y in zip(l1,l2):\n",
    "    if x in d:\n",
    "        d[x].add(y)\n",
    "    else:\n",
    "        d[x]=set()\n",
    "        d[x].add(y)\n",
    "print(type(d))\n",
    "d"
   ]
  },
  {
   "cell_type": "code",
   "execution_count": null,
   "metadata": {},
   "outputs": [],
   "source": [
    "#que - 3"
   ]
  },
  {
   "cell_type": "code",
   "execution_count": null,
   "metadata": {},
   "outputs": [
    {
     "name": "stdout",
     "output_type": "stream",
     "text": [
      "[('item2', 31.2), ('item1', 10.2), ('item3', 5.6)]\n"
     ]
    }
   ],
   "source": [
    "#que - 4\n",
    "def float_value(x):\n",
    "    return(float(x[1]))\n",
    "\n",
    "l = [('item1',10.2),('item2',31.2),('item3',5.6)]\n",
    "l.sort(key=float_value,reverse=True)\n",
    "print(l)"
   ]
  },
  {
   "cell_type": "code",
   "execution_count": 1,
   "metadata": {},
   "outputs": [],
   "source": [
    "#que-10\n",
    "\n"
   ]
  },
  {
   "cell_type": "code",
   "execution_count": 4,
   "metadata": {},
   "outputs": [
    {
     "name": "stdout",
     "output_type": "stream",
     "text": [
      "[10, 7000, 20, [300, 400, [5000, 6000], 500], 30, 40]\n"
     ]
    }
   ],
   "source": [
    "list1 = [10, 20, [300, 400, [5000, 6000], 500], 30, 40]\n",
    "i = list1.count(6000)\n",
    "list1.insert(i+1,7000)\n",
    "print(list1)"
   ]
  },
  {
   "cell_type": "code",
   "execution_count": 13,
   "metadata": {},
   "outputs": [
    {
     "name": "stdout",
     "output_type": "stream",
     "text": [
      "{'Kelly': {'designation': 'Developer', 'salary': 8000}, 'Emma': {'designation': 'Developer', 'salary': 8000}}\n"
     ]
    }
   ],
   "source": [
    "employees = ['Kelly', 'Emma']\n",
    "defaults = {\"designation\": 'Developer', \"salary\": 8000}\n",
    "\n",
    "res = dict.fromkeys(employees, defaults)\n",
    "print(res)\n"
   ]
  },
  {
   "cell_type": "code",
   "execution_count": 14,
   "metadata": {},
   "outputs": [
    {
     "name": "stdout",
     "output_type": "stream",
     "text": [
      "{'Ten': 10, 'Twenty': 20, 'Thirty': 30}\n"
     ]
    }
   ],
   "source": [
    "keys = ['Ten', 'Twenty', 'Thirty']\n",
    "values = [10, 20, 30]\n",
    "\n",
    "res_dict = dict(zip(keys, values))\n",
    "print(res_dict)"
   ]
  },
  {
   "cell_type": "code",
   "execution_count": 16,
   "metadata": {},
   "outputs": [
    {
     "name": "stdout",
     "output_type": "stream",
     "text": [
      "{'name': 'Kelly', 'salary': 8000}\n",
      "{'age': 25, 'city': 'New york'}\n"
     ]
    }
   ],
   "source": [
    "sample_dict = {\n",
    "    \"name\": \"Kelly\",\n",
    "    \"age\": 25,\n",
    "    \"salary\": 8000,\n",
    "    \"city\": \"New york\"}\n",
    "\n",
    "# Keys to extract\n",
    "keys = [\"name\", \"salary\"]\n",
    "\n",
    "ans_dict = {}\n",
    "for key in keys:\n",
    "    ans_dict[key]=sample_dict[key]\n",
    "\n",
    "print(ans_dict)\n",
    "\n",
    "for key in keys:\n",
    "    del sample_dict[key]\n",
    "\n",
    "print(sample_dict)\n"
   ]
  },
  {
   "cell_type": "code",
   "execution_count": 18,
   "metadata": {},
   "outputs": [
    {
     "data": {
      "text/plain": [
       "True"
      ]
     },
     "execution_count": 18,
     "metadata": {},
     "output_type": "execute_result"
    }
   ],
   "source": [
    "sample_dict = {'a': 100, 'b': 200, 'c': 300}\n",
    "\n",
    "200 in sample_dict.values()"
   ]
  },
  {
   "cell_type": "code",
   "execution_count": 20,
   "metadata": {},
   "outputs": [
    {
     "name": "stdout",
     "output_type": "stream",
     "text": [
      "{10, 30}\n"
     ]
    }
   ],
   "source": [
    "set1 = {10, 20, 30}\n",
    "set2 = {20, 40, 50}\n",
    "\n",
    "set3=set1.difference(set2)\n",
    "print(set3)"
   ]
  },
  {
   "cell_type": "code",
   "execution_count": 22,
   "metadata": {},
   "outputs": [
    {
     "name": "stdout",
     "output_type": "stream",
     "text": [
      "(('c', 11), ('a', 23), ('d', 29), ('b', 37))\n"
     ]
    }
   ],
   "source": [
    "tuple1 = (('a', 23),('b', 37),('c', 11), ('d',29))\n",
    "tuple1 = list(tuple1)\n",
    "tuple1.sort(key=lambda x:x[1])\n",
    "tuple1=tuple(tuple1)\n",
    "print(tuple1)"
   ]
  },
  {
   "cell_type": "code",
   "execution_count": 1,
   "metadata": {},
   "outputs": [
    {
     "name": "stdout",
     "output_type": "stream",
     "text": [
      "<b>Bhanu</b>\n"
     ]
    }
   ],
   "source": [
    "#Q10--\n",
    "name = \"Bhanu\"\n",
    "print(f\"<b>{name}</b>\")"
   ]
  },
  {
   "cell_type": "code",
   "execution_count": 25,
   "metadata": {},
   "outputs": [
    {
     "ename": "error",
     "evalue": "unterminated character set at position 6",
     "output_type": "error",
     "traceback": [
      "\u001b[1;31m---------------------------------------------------------------------------\u001b[0m",
      "\u001b[1;31merror\u001b[0m                                     Traceback (most recent call last)",
      "Cell \u001b[1;32mIn[25], line 4\u001b[0m\n\u001b[0;32m      2\u001b[0m string \u001b[39m=\u001b[39m \u001b[39m\"\u001b[39m\u001b[39mthe lyrics is not that much poor!\u001b[39m\u001b[39m\"\u001b[39m\n\u001b[0;32m      3\u001b[0m patter\u001b[39m=\u001b[39m\u001b[39m'\u001b[39m\u001b[39mthe\u001b[39m\u001b[39m\\\u001b[39m\u001b[39ms+[]\u001b[39m\u001b[39m\\\u001b[39m\u001b[39ms+poor!\u001b[39m\u001b[39m'\u001b[39m\n\u001b[1;32m----> 4\u001b[0m re\u001b[39m.\u001b[39;49mfindall(patter,string)\n",
      "File \u001b[1;32mc:\\Users\\Dev IIT\\AppData\\Local\\Programs\\Python\\Python311\\Lib\\re\\__init__.py:216\u001b[0m, in \u001b[0;36mfindall\u001b[1;34m(pattern, string, flags)\u001b[0m\n\u001b[0;32m    208\u001b[0m \u001b[39mdef\u001b[39;00m \u001b[39mfindall\u001b[39m(pattern, string, flags\u001b[39m=\u001b[39m\u001b[39m0\u001b[39m):\n\u001b[0;32m    209\u001b[0m \u001b[39m    \u001b[39m\u001b[39m\"\"\"Return a list of all non-overlapping matches in the string.\u001b[39;00m\n\u001b[0;32m    210\u001b[0m \n\u001b[0;32m    211\u001b[0m \u001b[39m    If one or more capturing groups are present in the pattern, return\u001b[39;00m\n\u001b[1;32m   (...)\u001b[0m\n\u001b[0;32m    214\u001b[0m \n\u001b[0;32m    215\u001b[0m \u001b[39m    Empty matches are included in the result.\"\"\"\u001b[39;00m\n\u001b[1;32m--> 216\u001b[0m     \u001b[39mreturn\u001b[39;00m _compile(pattern, flags)\u001b[39m.\u001b[39mfindall(string)\n",
      "File \u001b[1;32mc:\\Users\\Dev IIT\\AppData\\Local\\Programs\\Python\\Python311\\Lib\\re\\__init__.py:294\u001b[0m, in \u001b[0;36m_compile\u001b[1;34m(pattern, flags)\u001b[0m\n\u001b[0;32m    288\u001b[0m     \u001b[39mimport\u001b[39;00m \u001b[39mwarnings\u001b[39;00m\n\u001b[0;32m    289\u001b[0m     warnings\u001b[39m.\u001b[39mwarn(\u001b[39m\"\u001b[39m\u001b[39mThe re.TEMPLATE/re.T flag is deprecated \u001b[39m\u001b[39m\"\u001b[39m\n\u001b[0;32m    290\u001b[0m               \u001b[39m\"\u001b[39m\u001b[39mas it is an undocumented flag \u001b[39m\u001b[39m\"\u001b[39m\n\u001b[0;32m    291\u001b[0m               \u001b[39m\"\u001b[39m\u001b[39mwithout an obvious purpose. \u001b[39m\u001b[39m\"\u001b[39m\n\u001b[0;32m    292\u001b[0m               \u001b[39m\"\u001b[39m\u001b[39mDon\u001b[39m\u001b[39m'\u001b[39m\u001b[39mt use it.\u001b[39m\u001b[39m\"\u001b[39m,\n\u001b[0;32m    293\u001b[0m               \u001b[39mDeprecationWarning\u001b[39;00m)\n\u001b[1;32m--> 294\u001b[0m p \u001b[39m=\u001b[39m _compiler\u001b[39m.\u001b[39;49mcompile(pattern, flags)\n\u001b[0;32m    295\u001b[0m \u001b[39mif\u001b[39;00m \u001b[39mnot\u001b[39;00m (flags \u001b[39m&\u001b[39m DEBUG):\n\u001b[0;32m    296\u001b[0m     \u001b[39mif\u001b[39;00m \u001b[39mlen\u001b[39m(_cache) \u001b[39m>\u001b[39m\u001b[39m=\u001b[39m _MAXCACHE:\n\u001b[0;32m    297\u001b[0m         \u001b[39m# Drop the oldest item\u001b[39;00m\n",
      "File \u001b[1;32mc:\\Users\\Dev IIT\\AppData\\Local\\Programs\\Python\\Python311\\Lib\\re\\_compiler.py:743\u001b[0m, in \u001b[0;36mcompile\u001b[1;34m(p, flags)\u001b[0m\n\u001b[0;32m    741\u001b[0m \u001b[39mif\u001b[39;00m isstring(p):\n\u001b[0;32m    742\u001b[0m     pattern \u001b[39m=\u001b[39m p\n\u001b[1;32m--> 743\u001b[0m     p \u001b[39m=\u001b[39m _parser\u001b[39m.\u001b[39;49mparse(p, flags)\n\u001b[0;32m    744\u001b[0m \u001b[39melse\u001b[39;00m:\n\u001b[0;32m    745\u001b[0m     pattern \u001b[39m=\u001b[39m \u001b[39mNone\u001b[39;00m\n",
      "File \u001b[1;32mc:\\Users\\Dev IIT\\AppData\\Local\\Programs\\Python\\Python311\\Lib\\re\\_parser.py:980\u001b[0m, in \u001b[0;36mparse\u001b[1;34m(str, flags, state)\u001b[0m\n\u001b[0;32m    977\u001b[0m state\u001b[39m.\u001b[39mflags \u001b[39m=\u001b[39m flags\n\u001b[0;32m    978\u001b[0m state\u001b[39m.\u001b[39mstr \u001b[39m=\u001b[39m \u001b[39mstr\u001b[39m\n\u001b[1;32m--> 980\u001b[0m p \u001b[39m=\u001b[39m _parse_sub(source, state, flags \u001b[39m&\u001b[39;49m SRE_FLAG_VERBOSE, \u001b[39m0\u001b[39;49m)\n\u001b[0;32m    981\u001b[0m p\u001b[39m.\u001b[39mstate\u001b[39m.\u001b[39mflags \u001b[39m=\u001b[39m fix_flags(\u001b[39mstr\u001b[39m, p\u001b[39m.\u001b[39mstate\u001b[39m.\u001b[39mflags)\n\u001b[0;32m    983\u001b[0m \u001b[39mif\u001b[39;00m source\u001b[39m.\u001b[39mnext \u001b[39mis\u001b[39;00m \u001b[39mnot\u001b[39;00m \u001b[39mNone\u001b[39;00m:\n",
      "File \u001b[1;32mc:\\Users\\Dev IIT\\AppData\\Local\\Programs\\Python\\Python311\\Lib\\re\\_parser.py:455\u001b[0m, in \u001b[0;36m_parse_sub\u001b[1;34m(source, state, verbose, nested)\u001b[0m\n\u001b[0;32m    453\u001b[0m start \u001b[39m=\u001b[39m source\u001b[39m.\u001b[39mtell()\n\u001b[0;32m    454\u001b[0m \u001b[39mwhile\u001b[39;00m \u001b[39mTrue\u001b[39;00m:\n\u001b[1;32m--> 455\u001b[0m     itemsappend(_parse(source, state, verbose, nested \u001b[39m+\u001b[39;49m \u001b[39m1\u001b[39;49m,\n\u001b[0;32m    456\u001b[0m                        \u001b[39mnot\u001b[39;49;00m nested \u001b[39mand\u001b[39;49;00m \u001b[39mnot\u001b[39;49;00m items))\n\u001b[0;32m    457\u001b[0m     \u001b[39mif\u001b[39;00m \u001b[39mnot\u001b[39;00m sourcematch(\u001b[39m\"\u001b[39m\u001b[39m|\u001b[39m\u001b[39m\"\u001b[39m):\n\u001b[0;32m    458\u001b[0m         \u001b[39mbreak\u001b[39;00m\n",
      "File \u001b[1;32mc:\\Users\\Dev IIT\\AppData\\Local\\Programs\\Python\\Python311\\Lib\\re\\_parser.py:563\u001b[0m, in \u001b[0;36m_parse\u001b[1;34m(source, state, verbose, nested, first)\u001b[0m\n\u001b[0;32m    561\u001b[0m this \u001b[39m=\u001b[39m sourceget()\n\u001b[0;32m    562\u001b[0m \u001b[39mif\u001b[39;00m this \u001b[39mis\u001b[39;00m \u001b[39mNone\u001b[39;00m:\n\u001b[1;32m--> 563\u001b[0m     \u001b[39mraise\u001b[39;00m source\u001b[39m.\u001b[39merror(\u001b[39m\"\u001b[39m\u001b[39munterminated character set\u001b[39m\u001b[39m\"\u001b[39m,\n\u001b[0;32m    564\u001b[0m                        source\u001b[39m.\u001b[39mtell() \u001b[39m-\u001b[39m here)\n\u001b[0;32m    565\u001b[0m \u001b[39mif\u001b[39;00m this \u001b[39m==\u001b[39m \u001b[39m\"\u001b[39m\u001b[39m]\u001b[39m\u001b[39m\"\u001b[39m \u001b[39mand\u001b[39;00m \u001b[39mset\u001b[39m:\n\u001b[0;32m    566\u001b[0m     \u001b[39mbreak\u001b[39;00m\n",
      "\u001b[1;31merror\u001b[0m: unterminated character set at position 6"
     ]
    }
   ],
   "source": []
  },
  {
   "cell_type": "code",
   "execution_count": null,
   "metadata": {},
   "outputs": [],
   "source": []
  }
 ],
 "metadata": {
  "kernelspec": {
   "display_name": "Python 3",
   "language": "python",
   "name": "python3"
  },
  "language_info": {
   "codemirror_mode": {
    "name": "ipython",
    "version": 3
   },
   "file_extension": ".py",
   "mimetype": "text/x-python",
   "name": "python",
   "nbconvert_exporter": "python",
   "pygments_lexer": "ipython3",
   "version": "3.11.3"
  },
  "orig_nbformat": 4
 },
 "nbformat": 4,
 "nbformat_minor": 2
}
