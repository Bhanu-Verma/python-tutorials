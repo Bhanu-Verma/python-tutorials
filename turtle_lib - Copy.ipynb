{
 "cells": [
  {
   "cell_type": "code",
   "execution_count": 1,
   "metadata": {},
   "outputs": [
    {
     "ename": "TypeError",
     "evalue": "TPen.penup() takes 1 positional argument but 2 were given",
     "output_type": "error",
     "traceback": [
      "\u001b[1;31m---------------------------------------------------------------------------\u001b[0m",
      "\u001b[1;31mTypeError\u001b[0m                                 Traceback (most recent call last)",
      "Cell \u001b[1;32mIn[1], line 6\u001b[0m\n\u001b[0;32m      4\u001b[0m x\u001b[39m.\u001b[39mforward(\u001b[39m200\u001b[39m)\n\u001b[0;32m      5\u001b[0m x\u001b[39m.\u001b[39mback(\u001b[39m500\u001b[39m)\n\u001b[1;32m----> 6\u001b[0m x\u001b[39m.\u001b[39;49mup(\u001b[39m200\u001b[39;49m)\n\u001b[0;32m      7\u001b[0m x\u001b[39m.\u001b[39mdown(\u001b[39m300\u001b[39m)\n\u001b[0;32m      9\u001b[0m turtle\u001b[39m.\u001b[39mdone()\n",
      "\u001b[1;31mTypeError\u001b[0m: TPen.penup() takes 1 positional argument but 2 were given"
     ]
    },
    {
     "ename": "",
     "evalue": "",
     "output_type": "error",
     "traceback": [
      "\u001b[1;31mThe Kernel crashed while executing code in the the current cell or a previous cell. Please review the code in the cell(s) to identify a possible cause of the failure. Click <a href='https://aka.ms/vscodeJupyterKernelCrash'>here</a> for more info. View Jupyter <a href='command:jupyter.viewOutput'>log</a> for further details."
     ]
    }
   ],
   "source": [
    "import turtle\n",
    "x = turtle.Turtle() #it will create a turtle\n",
    "#x.color(\"red\",\"black\")      #first argument is line colour and second is color of turtle\n",
    "x.forward(200)\n",
    "x.back(500)\n",
    "x.up(200)\n",
    "x.down(300)\n",
    "\n",
    "turtle.done()"
   ]
  },
  {
   "cell_type": "code",
   "execution_count": 8,
   "metadata": {},
   "outputs": [
    {
     "name": "stdout",
     "output_type": "stream",
     "text": [
      "he said\\\\ I am a good boy.\n"
     ]
    }
   ],
   "source": []
  },
  {
   "cell_type": "code",
   "execution_count": null,
   "metadata": {},
   "outputs": [],
   "source": []
  },
  {
   "cell_type": "code",
   "execution_count": null,
   "metadata": {},
   "outputs": [],
   "source": []
  }
 ],
 "metadata": {
  "kernelspec": {
   "display_name": "Python 3",
   "language": "python",
   "name": "python3"
  },
  "language_info": {
   "codemirror_mode": {
    "name": "ipython",
    "version": 3
   },
   "file_extension": ".py",
   "mimetype": "text/x-python",
   "name": "python",
   "nbconvert_exporter": "python",
   "pygments_lexer": "ipython3",
   "version": "3.11.3"
  },
  "orig_nbformat": 4
 },
 "nbformat": 4,
 "nbformat_minor": 2
}
