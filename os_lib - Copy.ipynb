{
 "cells": [
  {
   "cell_type": "code",
   "execution_count": 1,
   "metadata": {},
   "outputs": [
    {
     "name": "stdout",
     "output_type": "stream",
     "text": [
      "current working directory is d:\\Python\\Python Tutorials\n"
     ]
    }
   ],
   "source": [
    "import os\n",
    "#Handling current working directory\n",
    "cwd = os.getcwd()\n",
    "print(f\"current working directory is {cwd}\")"
   ]
  },
  {
   "cell_type": "code",
   "execution_count": 2,
   "metadata": {},
   "outputs": [],
   "source": [
    "#changing the current working directory\n",
    "os.chdir(\"D:\\Python\\pandas\")\n",
    "os.getcwd()\n",
    "os.chdir(\"D:\\Python\\Python Tutorials\")"
   ]
  },
  {
   "cell_type": "code",
   "execution_count": 3,
   "metadata": {},
   "outputs": [
    {
     "ename": "FileExistsError",
     "evalue": "[WinError 183] Cannot create a file when that file already exists: 'D:\\\\Python\\\\ml basics'",
     "output_type": "error",
     "traceback": [
      "\u001b[1;31m---------------------------------------------------------------------------\u001b[0m",
      "\u001b[1;31mFileExistsError\u001b[0m                           Traceback (most recent call last)",
      "Cell \u001b[1;32mIn[3], line 2\u001b[0m\n\u001b[0;32m      1\u001b[0m \u001b[39m#creating directories ---\u001b[39;00m\n\u001b[1;32m----> 2\u001b[0m os\u001b[39m.\u001b[39;49mmkdir(\u001b[39m\"\u001b[39;49m\u001b[39mD:\u001b[39;49m\u001b[39m\\\u001b[39;49m\u001b[39mPython\u001b[39;49m\u001b[39m\\\u001b[39;49m\u001b[39mml basics\u001b[39;49m\u001b[39m\"\u001b[39;49m)\n",
      "\u001b[1;31mFileExistsError\u001b[0m: [WinError 183] Cannot create a file when that file already exists: 'D:\\\\Python\\\\ml basics'"
     ]
    }
   ],
   "source": [
    "#creating directories ---\n",
    "os.mkdir(\"D:\\Python\\ml basics\")\n"
   ]
  },
  {
   "cell_type": "code",
   "execution_count": null,
   "metadata": {},
   "outputs": [],
   "source": [
    "os.makedirs(\"D:\\c\\BST\")"
   ]
  },
  {
   "cell_type": "code",
   "execution_count": null,
   "metadata": {},
   "outputs": [
    {
     "data": {
      "text/plain": [
       "['.ipynb_checkpoints',\n",
       " 'assign1.ipynb',\n",
       " 'assign2.ipynb',\n",
       " 'calculator.ipynb',\n",
       " 'classes.ipynb',\n",
       " 'Data_structures.ipynb',\n",
       " 'Error_and_exception.ipynb',\n",
       " 'extra_stuff.ipynb',\n",
       " 'fibo.py',\n",
       " 'File_Handling.ipynb',\n",
       " 'input_and_output.ipynb',\n",
       " 'input_output.ipynb',\n",
       " 'le4.ipynb',\n",
       " 'lec2.ipynb',\n",
       " 'lec3.ipynb',\n",
       " 'lec5.ipynb',\n",
       " 'lec6.ipynb',\n",
       " 'lec7.ipynb',\n",
       " 'lec8.ipynb',\n",
       " 'lec9.ipynb',\n",
       " 'LEGB.ipynb',\n",
       " 'math_lib.ipynb',\n",
       " 'modules.ipynb',\n",
       " 'my_math.py',\n",
       " 'os_lib.ipynb',\n",
       " 'python_functions.ipynb',\n",
       " 'random_lib.ipynb',\n",
       " 'stl.ipynb',\n",
       " '__pycache__']"
      ]
     },
     "execution_count": 12,
     "metadata": {},
     "output_type": "execute_result"
    }
   ],
   "source": [
    "#LISTING FILES AND DIRECTORIES\n",
    "os.listdir(\"D:\\Python\\Python Tutorials\")"
   ]
  },
  {
   "cell_type": "code",
   "execution_count": 4,
   "metadata": {},
   "outputs": [
    {
     "ename": "SyntaxError",
     "evalue": "(unicode error) 'unicodeescape' codec can't decode bytes in position 2-3: truncated \\UXXXXXXXX escape (4275456856.py, line 2)",
     "output_type": "error",
     "traceback": [
      "\u001b[1;36m  Cell \u001b[1;32mIn[4], line 2\u001b[1;36m\u001b[0m\n\u001b[1;33m    dir = \"C:\\Users\\Dev\\ IIT\\Documents\\jaanu\\IMG-20230416-WA0014\"\u001b[0m\n\u001b[1;37m                                                                 ^\u001b[0m\n\u001b[1;31mSyntaxError\u001b[0m\u001b[1;31m:\u001b[0m (unicode error) 'unicodeescape' codec can't decode bytes in position 2-3: truncated \\UXXXXXXXX escape\n"
     ]
    }
   ],
   "source": [
    "#Deleting files and directories\n",
    "dir = \"C:\\Users\\Dev\\ IIT\\Documents\\jaanu\\IMG-20230416-WA0014\"\n",
    "\n",
    "     #it is used to join the the paths\n",
    "os.remove(dir)     "
   ]
  },
  {
   "cell_type": "code",
   "execution_count": null,
   "metadata": {},
   "outputs": [],
   "source": [
    "os.rmdir(\"D:\\c\\BST\")       #used to remove empty directories"
   ]
  },
  {
   "cell_type": "code",
   "execution_count": null,
   "metadata": {},
   "outputs": [],
   "source": [
    "os.rename(\"D:\\Python\\pandas\\MedTourEasy-Data-Science-Internship-Project\",\"running-project\")"
   ]
  },
  {
   "cell_type": "code",
   "execution_count": null,
   "metadata": {},
   "outputs": [
    {
     "data": {
      "text/plain": [
       "False"
      ]
     },
     "execution_count": 18,
     "metadata": {},
     "output_type": "execute_result"
    }
   ],
   "source": [
    "#This method will check whether a file exists or not by passing the name of the file as a parameter.\n",
    "os.path.exists('D:\\Python\\pandas\\MedTourEasy-Data-Science-Internship-Project')"
   ]
  },
  {
   "cell_type": "code",
   "execution_count": 2,
   "metadata": {},
   "outputs": [
    {
     "name": "stdout",
     "output_type": "stream",
     "text": [
      "784\n"
     ]
    }
   ],
   "source": [
    "import os\n",
    "print(os.path.getsize('test.txt'))"
   ]
  },
  {
   "cell_type": "code",
   "execution_count": null,
   "metadata": {},
   "outputs": [],
   "source": []
  }
 ],
 "metadata": {
  "kernelspec": {
   "display_name": "Python 3",
   "language": "python",
   "name": "python3"
  },
  "language_info": {
   "codemirror_mode": {
    "name": "ipython",
    "version": 3
   },
   "file_extension": ".py",
   "mimetype": "text/x-python",
   "name": "python",
   "nbconvert_exporter": "python",
   "pygments_lexer": "ipython3",
   "version": "3.11.3"
  },
  "orig_nbformat": 4
 },
 "nbformat": 4,
 "nbformat_minor": 2
}
